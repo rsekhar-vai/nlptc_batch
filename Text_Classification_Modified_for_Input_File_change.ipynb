{
  "nbformat": 4,
  "nbformat_minor": 0,
  "metadata": {
    "colab": {
      "name": " Text Classification - Modified for Input File change",
      "provenance": [],
      "collapsed_sections": [],
      "authorship_tag": "ABX9TyOoADpXCM5p+To0njlVv2gH",
      "include_colab_link": true
    },
    "kernelspec": {
      "name": "python3",
      "display_name": "Python 3"
    },
    "accelerator": "GPU"
  },
  "cells": [
    {
      "cell_type": "markdown",
      "metadata": {
        "id": "view-in-github",
        "colab_type": "text"
      },
      "source": [
        "<a href=\"https://colab.research.google.com/github/rsekhar-vai/nlptc/blob/master/Text_Classification_Modified_for_Input_File_change.ipynb\" target=\"_parent\"><img src=\"https://colab.research.google.com/assets/colab-badge.svg\" alt=\"Open In Colab\"/></a>"
      ]
    },
    {
      "cell_type": "markdown",
      "metadata": {
        "id": "iK41J9S1tbFM",
        "colab_type": "text"
      },
      "source": [
        "## Setup the Environment"
      ]
    },
    {
      "cell_type": "code",
      "metadata": {
        "id": "Rgv7Zkdxk_Rs",
        "colab_type": "code",
        "colab": {}
      },
      "source": [
        "%load_ext autoreload"
      ],
      "execution_count": 0,
      "outputs": []
    },
    {
      "cell_type": "code",
      "metadata": {
        "id": "DhK0DzDxpYMR",
        "colab_type": "code",
        "outputId": "19c2eca8-d31e-4565-db09-030c459d5745",
        "colab": {
          "base_uri": "https://localhost:8080/",
          "height": 156
        }
      },
      "source": [
        "!rm -r nlptc\n",
        "!git clone https://github.com/rsekhar-vai/nlptc.git"
      ],
      "execution_count": 0,
      "outputs": [
        {
          "output_type": "stream",
          "text": [
            "rm: cannot remove 'nlptc': No such file or directory\n",
            "Cloning into 'nlptc'...\n",
            "remote: Enumerating objects: 16, done.\u001b[K\n",
            "remote: Counting objects: 100% (16/16), done.\u001b[K\n",
            "remote: Compressing objects: 100% (16/16), done.\u001b[K\n",
            "remote: Total 183 (delta 5), reused 0 (delta 0), pack-reused 167\u001b[K\n",
            "Receiving objects: 100% (183/183), 11.61 MiB | 6.72 MiB/s, done.\n",
            "Resolving deltas: 100% (89/89), done.\n"
          ],
          "name": "stdout"
        }
      ]
    },
    {
      "cell_type": "code",
      "metadata": {
        "id": "5hmsXqGgBX43",
        "colab_type": "code",
        "outputId": "e4c31540-814e-4e31-d504-86fe7dc7b7d9",
        "colab": {
          "base_uri": "https://localhost:8080/",
          "height": 243
        }
      },
      "source": [
        "!ls nlptc -R"
      ],
      "execution_count": 0,
      "outputs": [
        {
          "output_type": "stream",
          "text": [
            "nlptc:\n",
            " data\t       Text_Classification_Modified_for_Input_File_change.ipynb\n",
            " __init__.py   TextClassification_Notebook.ipynb\n",
            "'Model Repo'   utilclasses.py\n",
            " models.py     utilfunctions.py\n",
            " README.md\n",
            "\n",
            "nlptc/data:\n",
            "bbcheadlines_text.csv  init\t sample_submission.csv\ttrain.csv\n",
            "humor_text.csv\t       news.csv  test.csv\t\ttweet_text.csv\n",
            "\n",
            "'nlptc/Model Repo':\n",
            "CharCNN_Simple.py  ConvRec_BiLSTM.py  __init__.py  VDCNN.py\n"
          ],
          "name": "stdout"
        }
      ]
    },
    {
      "cell_type": "code",
      "metadata": {
        "id": "eknF2zAupmQQ",
        "colab_type": "code",
        "outputId": "c9d47198-1779-4114-8630-63822c57c7f0",
        "colab": {
          "base_uri": "https://localhost:8080/",
          "height": 121
        }
      },
      "source": [
        "from argparse import Namespace\n",
        "from collections import Counter\n",
        "import json\n",
        "import os\n",
        "import re\n",
        "import string\n",
        "import numpy as np\n",
        "import pandas as pd\n",
        "import torch\n",
        "import torch.nn as nn\n",
        "import torch.nn.functional as F\n",
        "import torch.optim as optim\n",
        "from torch.utils.data import Dataset, DataLoader\n",
        "from tqdm import tqdm_notebook\n",
        "from sklearn import preprocessing\n",
        "from sklearn.model_selection import train_test_split\n",
        "import sys\n",
        "import spacy\n",
        "import torchtext\n",
        "from torchtext import data\n",
        "from torchtext.data import Field, BucketIterator\n",
        "from torchtext import vocab\n",
        "\n",
        "\n",
        "print('Python version:',sys.version)\n",
        "print('Pandas version:',pd.__version__)\n",
        "print('Pytorch version:', torch.__version__)\n",
        "print('Torch Text version:', torchtext.__version__)\n",
        "print('Spacy version:', spacy.__version__)\n"
      ],
      "execution_count": 0,
      "outputs": [
        {
          "output_type": "stream",
          "text": [
            "Python version: 3.6.9 (default, Apr 18 2020, 01:56:04) \n",
            "[GCC 8.4.0]\n",
            "Pandas version: 1.0.3\n",
            "Pytorch version: 1.5.0+cu101\n",
            "Torch Text version: 0.3.1\n",
            "Spacy version: 2.2.4\n"
          ],
          "name": "stdout"
        }
      ]
    },
    {
      "cell_type": "code",
      "metadata": {
        "id": "inC1xAgJoUiR",
        "colab_type": "code",
        "colab": {}
      },
      "source": [
        "  args = Namespace(\n",
        "      #text_csv=None, # updated subsequently\n",
        "      train_csv=\"nlptc/data/train.csv\",\n",
        "      val_csv=\"nlptc/data/val.csv\",\n",
        "      test_csv=\"nlptc/data/test.csv\",\n",
        "      model_state_file=\"model.pth\",\n",
        "      save_dir=\"model_storage/Clf\",\n",
        "      glove_filepath='D:\\\\Projects\\\\Text Analytics\\\\Glove\\\\glove.6B.100d.txt',\n",
        "      hidden_dim=100,\n",
        "      num_channels=100,\n",
        "      seed=1337,\n",
        "      learning_rate=0.001,\n",
        "      dropout_p=0.1,\n",
        "      batch_size=64,\n",
        "      num_epochs=20,\n",
        "      early_stopping_criteria=5,\n",
        "      cuda=True,\n",
        "      catch_keyboard_interrupt=True,\n",
        "      reload_from_files=False,\n",
        "      expand_filepaths_to_save_dir=True,\n",
        "      token_type = 'w',\n",
        "      max_text_length = 256,\n",
        "      pretrained_embeddings= 'Glove',\n",
        "      embedding_size=100,\n",
        "  )"
      ],
      "execution_count": 0,
      "outputs": []
    },
    {
      "cell_type": "code",
      "metadata": {
        "id": "c9vnHN-xoqL9",
        "colab_type": "code",
        "outputId": "c7796ddd-9c53-4013-c507-d224bb7ed6cb",
        "colab": {
          "base_uri": "https://localhost:8080/",
          "height": 69
        }
      },
      "source": [
        "from nlptc.utilclasses import *\n",
        "from nlptc.utilfunctions import *\n",
        "\n",
        "setup_environment(args)\n"
      ],
      "execution_count": 0,
      "outputs": [
        {
          "output_type": "stream",
          "text": [
            "Expanded filepaths: \n",
            "\tmodel_storage/Clf/model.pth\n",
            "Using CUDA: True\n"
          ],
          "name": "stdout"
        }
      ]
    },
    {
      "cell_type": "markdown",
      "metadata": {
        "id": "i3LQT9-ct_qA",
        "colab_type": "text"
      },
      "source": [
        "# Read Data file and split into Train, Validation and Test\n",
        "Text data file should have columns named as 'text' and 'category'. If the names are different, they should be renamed before processing further"
      ]
    },
    {
      "cell_type": "code",
      "metadata": {
        "id": "G4BkMI9ts8ky",
        "colab_type": "code",
        "colab": {}
      },
      "source": [
        "#args.text_csv = \"nlptc/data/news.csv\"\n",
        "#text_column, label_column = 'title', 'category'      # for news text\n",
        "\n",
        "#args.text_csv=\"nlptc/data/humor_text.csv\"\n",
        "#text_column, label_column = 'text', 'humor'         #for humor text\n",
        "\n",
        "args.text_csv = \"nlptc/data/bbcheadlines_text.csv\"\n",
        "text_column, label_column = 'text', 'category'      # for bbcheadlines text\n",
        "\n",
        "#args.text_csv = \"nlptc/data/tweet_text.csv\"\n",
        "#text_column, label_column = 'text', 'type'          #for tweet text      \n"
      ],
      "execution_count": 0,
      "outputs": []
    },
    {
      "cell_type": "code",
      "metadata": {
        "id": "qdqEPUDYpVnU",
        "colab_type": "code",
        "outputId": "117d35b8-e7d5-4261-df23-33e108e5fba3",
        "colab": {
          "base_uri": "https://localhost:8080/",
          "height": 52
        }
      },
      "source": [
        "max_text_length = 256,\n",
        "args.token_type = 'w'\n",
        "text_df_orig = pd.read_csv(args.text_csv,encoding= 'unicode_escape')\n",
        "print(text_df_orig.columns)\n",
        "\n",
        "if text_column != 'text':\n",
        "  text_df_orig.rename(columns={text_column:'text'},inplace=True)\n",
        "if label_column != 'category':\n",
        "  text_df_orig.rename(columns={label_column:'category'},inplace=True)\n",
        "\n",
        "text_df = text_df_orig[['text','category']] \n",
        "print(text_df.columns)\n",
        "\n",
        "dataset = TextDataset(text_df,args)\n",
        "train_df, val_df, test_df = dataset.get_splits()\n",
        "\n",
        "train_df.to_csv(args.train_csv, index=False)\n",
        "val_df.to_csv(args.val_csv, index=False)\n",
        "test_df.to_csv(args.test_csv, index=False)\n"
      ],
      "execution_count": 0,
      "outputs": [
        {
          "output_type": "stream",
          "text": [
            "Index(['category', 'text'], dtype='object')\n",
            "Index(['text', 'category'], dtype='object')\n"
          ],
          "name": "stdout"
        }
      ]
    },
    {
      "cell_type": "code",
      "metadata": {
        "id": "7lUgn56QpqL0",
        "colab_type": "code",
        "outputId": "9179d99b-fa76-45f4-db95-1de4ae59c1d8",
        "colab": {
          "base_uri": "https://localhost:8080/",
          "height": 202
        }
      },
      "source": [
        "train_df.head()"
      ],
      "execution_count": 0,
      "outputs": [
        {
          "output_type": "execute_result",
          "data": {
            "text/html": [
              "<div>\n",
              "<style scoped>\n",
              "    .dataframe tbody tr th:only-of-type {\n",
              "        vertical-align: middle;\n",
              "    }\n",
              "\n",
              "    .dataframe tbody tr th {\n",
              "        vertical-align: top;\n",
              "    }\n",
              "\n",
              "    .dataframe thead th {\n",
              "        text-align: right;\n",
              "    }\n",
              "</style>\n",
              "<table border=\"1\" class=\"dataframe\">\n",
              "  <thead>\n",
              "    <tr style=\"text-align: right;\">\n",
              "      <th></th>\n",
              "      <th>text</th>\n",
              "      <th>category</th>\n",
              "    </tr>\n",
              "  </thead>\n",
              "  <tbody>\n",
              "    <tr>\n",
              "      <th>1541</th>\n",
              "      <td>pete doherty misses bail deadline singer pete ...</td>\n",
              "      <td>entertainment</td>\n",
              "    </tr>\n",
              "    <tr>\n",
              "      <th>1186</th>\n",
              "      <td>santini resigns as spurs manager tottenham man...</td>\n",
              "      <td>sport</td>\n",
              "    </tr>\n",
              "    <tr>\n",
              "      <th>2182</th>\n",
              "      <td>google launches tv search service the net sear...</td>\n",
              "      <td>tech</td>\n",
              "    </tr>\n",
              "    <tr>\n",
              "      <th>1228</th>\n",
              "      <td>savvy searchers fail to spot ads internet sear...</td>\n",
              "      <td>tech</td>\n",
              "    </tr>\n",
              "    <tr>\n",
              "      <th>1302</th>\n",
              "      <td>gebrselassie in london triple bid double olymp...</td>\n",
              "      <td>sport</td>\n",
              "    </tr>\n",
              "  </tbody>\n",
              "</table>\n",
              "</div>"
            ],
            "text/plain": [
              "                                                   text       category\n",
              "1541  pete doherty misses bail deadline singer pete ...  entertainment\n",
              "1186  santini resigns as spurs manager tottenham man...          sport\n",
              "2182  google launches tv search service the net sear...           tech\n",
              "1228  savvy searchers fail to spot ads internet sear...           tech\n",
              "1302  gebrselassie in london triple bid double olymp...          sport"
            ]
          },
          "metadata": {
            "tags": []
          },
          "execution_count": 9
        }
      ]
    },
    {
      "cell_type": "markdown",
      "metadata": {
        "id": "fLb8wOozuR8z",
        "colab_type": "text"
      },
      "source": [
        "# Define TorchText Fields Variables and map them to Data file Columns\n",
        "TEXT variable maps to the text we will process. LABEL variable maps to Category associated with the TEXT.\n",
        "\n",
        "TEXT and LABEL are of type FIELD which is part of TorchText package. FIELD comes with many built in functions that help in simplifying proprocessing. For example we can pass tokenizer as the argument to TEXT. Using this, TorchText does automatic tokenization while parsing the Text File Columns\n",
        "\n",
        "\n"
      ]
    },
    {
      "cell_type": "code",
      "metadata": {
        "id": "P7hWe9xAqKPl",
        "colab_type": "code",
        "colab": {}
      },
      "source": [
        "nlp = spacy.load('en_core_web_sm',disable=[\"tagger\", \"parser\", \"ner\"])\n",
        "\n",
        "def tokenizer(sentence):\n",
        "    tokens = [w.text.lower() for w in nlp(clean_text(sentence))]\n",
        "    return tokens"
      ],
      "execution_count": 0,
      "outputs": []
    },
    {
      "cell_type": "code",
      "metadata": {
        "id": "sKij3AjQp35E",
        "colab_type": "code",
        "colab": {}
      },
      "source": [
        "Field_TEXT = data.Field(tokenize=tokenizer, sequential=True, \n",
        "                        use_vocab=True,batch_first=True,fix_length=args.max_text_length)\n",
        "Field_LABEL = data.LabelField(sequential=False)\n",
        "mapping_with_file_columns = [('text', Field_TEXT), ('category', Field_LABEL)]\n"
      ],
      "execution_count": 0,
      "outputs": []
    },
    {
      "cell_type": "markdown",
      "metadata": {
        "id": "YNUv-rrTxAww",
        "colab_type": "text"
      },
      "source": [
        "# Create TorchText Dataset wrappers around Train, Validation and Test Data files using the TorchText Field Variables\n",
        "TorchText Dataset is a wrapper around a normal data file. It comes with many build in functions that help simplify processing. Dataset wrapper needs the mapping between TorchText Fields and data file columns (as defined in the previous step) "
      ]
    },
    {
      "cell_type": "code",
      "metadata": {
        "id": "A5z9ujUHp5cd",
        "colab_type": "code",
        "outputId": "b83e9d9e-524c-4382-81ae-6eb73755974d",
        "colab": {
          "base_uri": "https://localhost:8080/",
          "height": 55
        }
      },
      "source": [
        " Dataset_train, Dataset_val, Dataset_test = data.TabularDataset.splits(\n",
        "                                         path = '',\n",
        "                                         train = args.train_csv,\n",
        "                                         validation = args.val_csv,\n",
        "                                         test = args.test_csv,\n",
        "                                           format = 'csv',\n",
        "                                         fields = mapping_with_file_columns,\n",
        "                                         skip_header = True\n",
        "     )\n",
        "print(vars(Dataset_train[0]))\n"
      ],
      "execution_count": 0,
      "outputs": [
        {
          "output_type": "stream",
          "text": [
            "{'text': ['pete', 'doherty', 'misses', 'bail', 'deadline', 'singer', 'pete', 'doherty', 'will', 'have', 'to', 'spend', 'the', 'weekend', 'in', 'jail', 'because', 'he', 'could', 'not', 'come', 'up', 'with', '150', '000', 'bond', 'money', 'for', 'his', 'bail', 'on', 'time', 'the', 'former', 'libertines', 'singer', 'had', 'been', 'granted', 'bail', 'with', 'curfew', 'restrictions', 'at', 'highbury', 'corner', 'magistrates', 'court', 'on', 'charges', 'of', 'robbery', 'and', 'blackmail', 'but', 'his', 'lawyer', 'said', 'the', 'money', 'could', 'not', 'be', 'raised', 'on', 'time', 'mr', 'doherty', '25', 'was', 'arrested', 'following', 'an', 'alleged', 'incident', 'in', 'a', 'london', 'hotel', 'on', 'wednesday', 'evening', 'musician', 'alan', 'wass', '23', 'also', 'of', 'north', 'london', 'appeared', 'in', 'court', 'accused', 'of', 'the', 'same', 'offences', 'magistrates', 'imposed', 'a', 'range', 'of', 'bail', 'conditions', 'on', 'mr', 'doherty', 'including', 'a', 'curfew', 'between', '2200', 'and', '0700', 'except', 'when', 'he', 'attends', 'a', 'drug', 'rehabilitation', 'centre', 'he', 'was', 'told', 'he', 'would', 'not', 'be', 'able', 'to', 'leave', 'his', 'home', 'without', 'being', 'accompanied', 'by', 'a', 'security', 'firm', 'he', 'must', 'also', 'surrender', 'his', 'passport', 'and', 'report', 'daily', 'to', 'a', 'local', 'police', 'station', 'mr', 'wass', 'was', 'also', 'given', 'a', 'curfew', 'and', 'told', 'to', 'surrender', 'his', 'passport', 'mr', 'doherty', 'left', 'the', 'libertines', 'at', 'the', 'end', 'of', 'june', '2004', 'but', 'continued', 'performing', 'with', 'his', 'band', 'babyshambles', 'the', 'singer', 'who', 'has', 'been', 'linked', 'to', 'supermodel', 'kate', 'moss', 'was', 'arrested', 'after', 'police', 'were', 'called', 'to', 'the', 'islington', 'hotel', 'in', 'response', 'to', 'claims', 'that', 'a', 'man', 'had', 'been', 'assaulted', 'a', 'man', 'in', 'his', '30s', 'was', 'later', 'taken', 'to', 'university', 'college', 'hospital', 'london', 'with', 'facial', 'injuries', 'before', 'being', 'discharged', 'a', 'lawyer', 'representing', 'mr', 'doherty', 'and', 'mr', 'wass', 'said', 'outside', 'court', 'the', 'pair', 'strenuously', 'denied', 'the', 'charges'], 'category': 'entertainment'}\n"
          ],
          "name": "stdout"
        }
      ]
    },
    {
      "cell_type": "markdown",
      "metadata": {
        "id": "8L2qMocP07Cm",
        "colab_type": "text"
      },
      "source": [
        "# Build Vocabulary and Word Vectors using the Datasets Created\n",
        "\n",
        "Volcabulary is list of unique Tokens in the text data. We will map each of the unique tokens to Word Vectors (or embeddings) using Glove Database"
      ]
    },
    {
      "cell_type": "code",
      "metadata": {
        "id": "QsEcoWUkp_Fl",
        "colab_type": "code",
        "outputId": "70f42612-18f1-4b0b-9b07-4eb196ba6c31",
        "colab": {
          "base_uri": "https://localhost:8080/",
          "height": 69
        }
      },
      "source": [
        " %%time\n",
        "MAX_VOCAB_SIZE = 25000\n",
        "#vec = vocab.Vectors('glove.6B.100d.txt', 'D:/qBots/nlptc/glove_embedding/')\n",
        "Field_TEXT.build_vocab(Dataset_train,Dataset_val,\n",
        "                  max_size = MAX_VOCAB_SIZE, \n",
        "                  vectors = \"glove.6B.100d\", \n",
        "##                vectors = vec,\n",
        "                  unk_init = torch.Tensor.normal_)\n",
        "Field_LABEL.build_vocab(Dataset_train)\n"
      ],
      "execution_count": 0,
      "outputs": [
        {
          "output_type": "stream",
          "text": [
            ".vector_cache/glove.6B.zip: 862MB [06:29, 2.21MB/s]                          \n",
            "100%|█████████▉| 399119/400000 [00:21<00:00, 19212.59it/s]"
          ],
          "name": "stderr"
        },
        {
          "output_type": "stream",
          "text": [
            "CPU times: user 44.4 s, sys: 8.11 s, total: 52.6 s\n",
            "Wall time: 7min 21s\n"
          ],
          "name": "stdout"
        }
      ]
    },
    {
      "cell_type": "code",
      "metadata": {
        "id": "ZRIuJlJ4qJIE",
        "colab_type": "code",
        "outputId": "dc2624f5-d952-49f5-82b2-9cdef989f192",
        "colab": {
          "base_uri": "https://localhost:8080/",
          "height": 35
        }
      },
      "source": [
        "Field_TEXT.vocab.vectors.shape"
      ],
      "execution_count": 0,
      "outputs": [
        {
          "output_type": "execute_result",
          "data": {
            "text/plain": [
              "torch.Size([25002, 100])"
            ]
          },
          "metadata": {
            "tags": []
          },
          "execution_count": 14
        }
      ]
    },
    {
      "cell_type": "code",
      "metadata": {
        "id": "c03yZbbI1vIU",
        "colab_type": "code",
        "outputId": "6a290637-2663-4e4d-9624-d699086bca76",
        "colab": {
          "base_uri": "https://localhost:8080/",
          "height": 243
        }
      },
      "source": [
        "Field_TEXT.vocab.vectors[Field_TEXT.vocab.stoi['testing']]"
      ],
      "execution_count": 0,
      "outputs": [
        {
          "output_type": "execute_result",
          "data": {
            "text/plain": [
              "tensor([ 0.1258,  0.2037, -0.1123,  0.3045, -0.9769, -0.5542,  0.4286,  0.7928,\n",
              "        -0.7157,  0.7587, -0.1077, -0.3529,  0.0333, -0.0764,  0.3469,  0.2451,\n",
              "         0.5385,  0.7100,  0.0522, -0.1323, -0.4734, -0.1800,  0.1982, -0.0651,\n",
              "        -0.4349,  0.4343, -0.0951, -0.3966, -0.4798,  0.4940, -0.3679,  0.2031,\n",
              "        -0.3497,  0.2970,  1.0122,  0.0933, -0.3492, -0.4592, -0.8168,  0.0374,\n",
              "        -0.8714, -0.1617, -0.0595, -0.4740, -0.3519,  0.2339,  0.4807, -0.6236,\n",
              "        -0.3462, -0.7426,  0.8620,  0.0581, -0.8875,  0.8843,  0.0444, -1.3311,\n",
              "        -0.7529,  0.0039,  1.9239, -0.0039,  0.2040,  0.3463,  0.9224,  0.5198,\n",
              "         0.4460,  0.6641, -0.2858, -0.2286,  0.1590,  0.1543, -0.0106,  0.5443,\n",
              "        -0.1647,  0.2509, -0.1672,  0.4843,  0.4626, -0.4024, -1.2572, -0.2214,\n",
              "         0.6287, -0.2696, -0.5828,  0.2838, -1.7209,  0.6726,  0.8789,  0.3482,\n",
              "        -0.9895,  0.4533, -0.5951,  0.0075,  0.0057,  0.5793,  0.6368,  0.5939,\n",
              "        -0.1434, -0.2136,  0.4768,  0.3917])"
            ]
          },
          "metadata": {
            "tags": []
          },
          "execution_count": 15
        }
      ]
    },
    {
      "cell_type": "code",
      "metadata": {
        "id": "rqp1kuqL11Y8",
        "colab_type": "code",
        "outputId": "121e38f1-f4b9-4223-ddaa-773ed9d567af",
        "colab": {
          "base_uri": "https://localhost:8080/",
          "height": 35
        }
      },
      "source": [
        "print(Field_LABEL.vocab.stoi)"
      ],
      "execution_count": 0,
      "outputs": [
        {
          "output_type": "stream",
          "text": [
            "defaultdict(<function _default_unk_index at 0x7f5626aa7620>, {'business': 0, 'sport': 1, 'politics': 2, 'entertainment': 3, 'tech': 4})\n"
          ],
          "name": "stdout"
        }
      ]
    },
    {
      "cell_type": "code",
      "metadata": {
        "id": "j6OesrOzcgSH",
        "colab_type": "code",
        "colab": {}
      },
      "source": [
        "embeddings = Field_TEXT.vocab.vectors.numpy()\n"
      ],
      "execution_count": 0,
      "outputs": []
    },
    {
      "cell_type": "code",
      "metadata": {
        "id": "hCbQTOvpv9B-",
        "colab_type": "code",
        "colab": {}
      },
      "source": [
        ""
      ],
      "execution_count": 0,
      "outputs": []
    },
    {
      "cell_type": "markdown",
      "metadata": {
        "id": "F2dwz4TJ19yg",
        "colab_type": "text"
      },
      "source": [
        "# Create the Torchtext Batches as wrapper around Dataset_train/val/test for iterating over during Training/Validation/Testng"
      ]
    },
    {
      "cell_type": "code",
      "metadata": {
        "id": "b6eIY6Q4qO1W",
        "colab_type": "code",
        "outputId": "71f93b8a-af84-4151-e5fb-ea48cfc61ae7",
        "colab": {
          "base_uri": "https://localhost:8080/",
          "height": 35
        }
      },
      "source": [
        "BATCH_SIZE = 3\n",
        "device = torch.device('cuda' if torch.cuda.is_available() else 'cpu')\n",
        "\n",
        "Batches_train, Batches_val, Batches_test = data.BucketIterator.splits(\n",
        "    (Dataset_train, Dataset_val,Dataset_test), \n",
        "    batch_size = args.batch_size,\n",
        "    sort_key=lambda x: len(x.text), \n",
        "    sort_within_batch=True, \n",
        "    device = device)\n",
        "\n",
        "print(\"***** Number of Train and Validation batches are :\",len(Batches_train), len(Batches_val))\n"
      ],
      "execution_count": 0,
      "outputs": [
        {
          "output_type": "stream",
          "text": [
            "***** Number of Train and Validation batches are : 20 7\n"
          ],
          "name": "stdout"
        }
      ]
    },
    {
      "cell_type": "code",
      "metadata": {
        "id": "KkJsUN50qS16",
        "colab_type": "code",
        "colab": {}
      },
      "source": [
        "batch = next(iter(Batches_train))"
      ],
      "execution_count": 0,
      "outputs": []
    },
    {
      "cell_type": "code",
      "metadata": {
        "id": "xJzEsYpA-VZd",
        "colab_type": "code",
        "outputId": "8533e14a-cfd7-46f7-adde-9506c2b8e641",
        "colab": {
          "base_uri": "https://localhost:8080/",
          "height": 35
        }
      },
      "source": [
        "batch.category.shape"
      ],
      "execution_count": 0,
      "outputs": [
        {
          "output_type": "execute_result",
          "data": {
            "text/plain": [
              "torch.Size([64])"
            ]
          },
          "metadata": {
            "tags": []
          },
          "execution_count": 20
        }
      ]
    },
    {
      "cell_type": "code",
      "metadata": {
        "id": "49lYv3H9cIcz",
        "colab_type": "code",
        "outputId": "524de6f9-66b9-4fe4-9af9-19e94ec54900",
        "colab": {
          "base_uri": "https://localhost:8080/",
          "height": 35
        }
      },
      "source": [
        "batch.text.shape"
      ],
      "execution_count": 0,
      "outputs": [
        {
          "output_type": "execute_result",
          "data": {
            "text/plain": [
              "torch.Size([64, 256])"
            ]
          },
          "metadata": {
            "tags": []
          },
          "execution_count": 21
        }
      ]
    },
    {
      "cell_type": "code",
      "metadata": {
        "id": "e5-xAc27bz20",
        "colab_type": "code",
        "colab": {}
      },
      "source": [
        "def idxtosent(batch, idx):\n",
        "    return ' '.join([Field_TEXT.vocab.itos[i] for i in batch.text[idx,:].cpu().data.numpy()])"
      ],
      "execution_count": 0,
      "outputs": []
    },
    {
      "cell_type": "code",
      "metadata": {
        "id": "a_U9Xr0mb0yx",
        "colab_type": "code",
        "outputId": "6e92e6e1-ca62-486e-93a1-28b994f01478",
        "colab": {
          "base_uri": "https://localhost:8080/",
          "height": 72
        }
      },
      "source": [
        "for i in range(2):\n",
        "  print(idxtosent(batch,i))"
      ],
      "execution_count": 0,
      "outputs": [
        {
          "output_type": "stream",
          "text": [
            "terror suspects face house arrest uk citizens suspected of involvement in terrorism could face house arrest as part of a series of new measures outlined by the home secretary it comes after law lords ruled that the detention of 12 foreign terror suspects without trial breached human rights charles clarke s planned control orders mean anyone suspected of being involved in terrorism could be subject to house arrest curfews or tagging the law society dubbed mr clarke s new proposals an abuse of power deals are already being sought to deport some of the foreign detainees who are mainly held in belmarsh prison in london under the current laws introduced after the us terror attacks on 11 september 2001 mr clarke said efforts would continue to deport them to their countries of origin algeria tunisia egypt and jordan without them facing torture or death under the proposed changes prompted by the house of lords ruling the home secretary could order british citizens or foreign suspects who could not be deported to face house arrest or other measures such as restrictions on their movements or limits on their use of telephones and the internet british citizens are being included in the changes after the law lords said the current powers were discriminatory because they could only be used on foreign suspects mr clarke also said intelligence reports showed some british nationals were now playing a more significant role in terror threats human rights lawyer clive stafford smith said the plans were a further abuse of human rights\n",
            "blair blasts tory spending plans tony blair has launched an attack on conservative spending plans saying they are a ludicrous improbability the prime minister has told a labour party gathering that the tory policies would cause economic failure tory leader michael howard has said his party would cut 35bn in wasteful spending to allow 4bn in tax cuts on saturday tory shadow home secretary david davis said the tories would fund the cuts by removing inefficiencies which had burgeoned under labour in his speech mr blair contrasted a reformed labour party which had learned to occupy the political centre ground with a hidebound tory party which he said would turn the clock back with spending cuts mr blair said the conservative tax and spending proposals would put at risk both britain s hard won economic stability the lowest mortgages inflation unemployment for decades and the key investment in public services i believe that the tory plans are as plain a call to return to the past as it s possible to imagine he said it s a recipe for exactly the same boom and bust economics and cuts in public services that were their hallmark in 18 years of conservative government mr blair added they the conservatives have learned nothing by contrast he said new labour had listened to its electorate and changed mr blair went on to list his government s achievements and to issue a rallying call to the party so now we have a choice we can defend this record and we can\n"
          ],
          "name": "stdout"
        }
      ]
    },
    {
      "cell_type": "markdown",
      "metadata": {
        "id": "aXauuKqj3wgt",
        "colab_type": "text"
      },
      "source": [
        "# Build Model - Simple Word CNN"
      ]
    },
    {
      "cell_type": "code",
      "metadata": {
        "id": "ypNBz4FprsWz",
        "colab_type": "code",
        "colab": {}
      },
      "source": [
        "from nlptc.models import *"
      ],
      "execution_count": 0,
      "outputs": []
    },
    {
      "cell_type": "code",
      "metadata": {
        "id": "pavGzAhmueTJ",
        "colab_type": "code",
        "outputId": "33c21fb2-662c-4c3b-dae3-c30955a58f57",
        "colab": {
          "base_uri": "https://localhost:8080/",
          "height": 35
        }
      },
      "source": [
        "embeddings = Field_TEXT.vocab.vectors.numpy()\n",
        "type(embeddings)"
      ],
      "execution_count": 0,
      "outputs": [
        {
          "output_type": "execute_result",
          "data": {
            "text/plain": [
              "numpy.ndarray"
            ]
          },
          "metadata": {
            "tags": []
          },
          "execution_count": 25
        }
      ]
    },
    {
      "cell_type": "code",
      "metadata": {
        "id": "3k7DiAfEvDPX",
        "colab_type": "code",
        "colab": {}
      },
      "source": [
        "classifier = WordCNN_Simple(embedding_size=args.embedding_size,\n",
        "                                    num_embeddings=len(Field_TEXT.vocab),\n",
        "                                    num_channels=args.num_channels,\n",
        "                                    hidden_dim=args.hidden_dim,\n",
        "                                    num_classes=len(Field_LABEL.vocab),\n",
        "                                    dropout_p=args.dropout_p,\n",
        "                                    pretrained_embeddings=embeddings,\n",
        "                                    padding_idx=0)"
      ],
      "execution_count": 0,
      "outputs": []
    },
    {
      "cell_type": "code",
      "metadata": {
        "id": "ZgluFDpo4XC3",
        "colab_type": "code",
        "outputId": "06494bb2-26a4-4404-fd79-fa030012fd7a",
        "colab": {
          "base_uri": "https://localhost:8080/",
          "height": 35
        }
      },
      "source": [
        "classifier = classifier.to(args.device)\n",
        "loss_func = nn.CrossEntropyLoss()\n",
        "optimizer = optim.Adam(classifier.parameters(), lr=args.learning_rate)\n",
        "scheduler = optim.lr_scheduler.ReduceLROnPlateau(optimizer=optimizer,\n",
        "                                                  mode='min', factor=0.5,\n",
        "                                                  patience=1)\n",
        "print(\"------- # of Parameters ---->: \", sum(p.numel() for p in classifier.parameters() if p.requires_grad))\n"
      ],
      "execution_count": 0,
      "outputs": [
        {
          "output_type": "stream",
          "text": [
            "------- # of Parameters ---->:  2631205\n"
          ],
          "name": "stdout"
        }
      ]
    },
    {
      "cell_type": "code",
      "metadata": {
        "id": "5AB60HS5mzgD",
        "colab_type": "code",
        "outputId": "5204c0ad-aa3d-4ae3-d37e-b2054908c9ae",
        "colab": {
          "base_uri": "https://localhost:8080/",
          "height": 1000
        }
      },
      "source": [
        "results = build_model(args,dataset,classifier,Batches_train,Batches_val,Batches_test,loss_func,optimizer,scheduler)\n"
      ],
      "execution_count": 0,
      "outputs": [
        {
          "output_type": "stream",
          "text": [
            "--------------------- @epoch  0 ---------------------\n",
            "  training loss/accuracy 1.55291 / 27.96\n",
            "validation loss/accuracy 1.07463 / 54.15\n",
            "--------------------- @epoch  1 ---------------------\n",
            "  training loss/accuracy 0.72036 / 67.90\n",
            "validation loss/accuracy 0.67094 / 73.81\n",
            "--------------------- @epoch  2 ---------------------\n",
            "  training loss/accuracy 0.55259 / 77.14\n",
            "validation loss/accuracy 0.42223 / 84.48\n",
            "--------------------- @epoch  3 ---------------------\n",
            "  training loss/accuracy 0.38649 / 83.76\n",
            "validation loss/accuracy 0.26527 / 90.90\n",
            "--------------------- @epoch  4 ---------------------\n",
            "  training loss/accuracy 0.21852 / 91.75\n",
            "validation loss/accuracy 0.18895 / 93.32\n",
            "--------------------- @epoch  5 ---------------------\n",
            "  training loss/accuracy 0.14935 / 94.40\n",
            "validation loss/accuracy 0.16968 / 94.00\n",
            "--------------------- @epoch  6 ---------------------\n",
            "  training loss/accuracy 0.12464 / 95.21\n",
            "validation loss/accuracy 0.08318 / 97.56\n",
            "--------------------- @epoch  7 ---------------------\n",
            "  training loss/accuracy 0.06856 / 98.06\n",
            "validation loss/accuracy 0.06866 / 97.54\n",
            "--------------------- @epoch  8 ---------------------\n",
            "  training loss/accuracy 0.04200 / 98.59\n",
            "validation loss/accuracy 0.03803 / 98.88\n",
            "--------------------- @epoch  9 ---------------------\n",
            "  training loss/accuracy 0.05862 / 98.06\n",
            "validation loss/accuracy 0.05326 / 97.99\n",
            "--------------------- @epoch  10 ---------------------\n",
            "  training loss/accuracy 0.04522 / 98.59\n",
            "validation loss/accuracy 0.02543 / 99.33\n",
            "--------------------- @epoch  11 ---------------------\n",
            "  training loss/accuracy 0.00939 / 99.84\n",
            "validation loss/accuracy 0.00590 / 100.00\n",
            "--------------------- @epoch  12 ---------------------\n"
          ],
          "name": "stdout"
        },
        {
          "output_type": "stream",
          "text": [
            "\r100%|█████████▉| 399119/400000 [00:40<00:00, 19212.59it/s]"
          ],
          "name": "stderr"
        },
        {
          "output_type": "stream",
          "text": [
            "  training loss/accuracy 0.00520 / 99.92\n",
            "validation loss/accuracy 0.00306 / 100.00\n",
            "--------------------- @epoch  13 ---------------------\n",
            "  training loss/accuracy 0.00324 / 99.92\n",
            "validation loss/accuracy 0.00343 / 100.00\n",
            "--------------------- @epoch  14 ---------------------\n",
            "  training loss/accuracy 0.00214 / 100.00\n",
            "validation loss/accuracy 0.00153 / 100.00\n",
            "--------------------- @epoch  15 ---------------------\n",
            "  training loss/accuracy 0.00134 / 100.00\n",
            "validation loss/accuracy 0.00066 / 100.00\n",
            "--------------------- @epoch  16 ---------------------\n",
            "  training loss/accuracy 0.00070 / 100.00\n",
            "validation loss/accuracy 0.00080 / 100.00\n",
            "--------------------- @epoch  17 ---------------------\n",
            "  training loss/accuracy 0.00072 / 100.00\n",
            "validation loss/accuracy 0.00053 / 100.00\n",
            "--------------------- @epoch  18 ---------------------\n",
            "  training loss/accuracy 0.00067 / 100.00\n",
            "validation loss/accuracy 0.00034 / 100.00\n",
            "--------------------- @epoch  19 ---------------------\n",
            "  training loss/accuracy 0.00055 / 100.00\n",
            "validation loss/accuracy 0.00040 / 100.00\n",
            "Test loss: 0.101\n",
            "Test Accuracy: 97.93\n"
          ],
          "name": "stdout"
        }
      ]
    },
    {
      "cell_type": "code",
      "metadata": {
        "id": "Jrz_wRzQ5S3A",
        "colab_type": "code",
        "outputId": "f91d7724-981d-49be-d1a5-274b7505e320",
        "colab": {
          "base_uri": "https://localhost:8080/",
          "height": 283
        }
      },
      "source": [
        "import matplotlib.pyplot as plt\n",
        "plt.plot(results['train_loss'])\n",
        "plt.plot(results['val_loss'])\n",
        "plt.plot((0,20),(results['test_loss'],results['test_loss']))\n",
        "\n",
        "plt.legend(['training loss', 'validation loss','test loss'])"
      ],
      "execution_count": 0,
      "outputs": [
        {
          "output_type": "execute_result",
          "data": {
            "text/plain": [
              "<matplotlib.legend.Legend at 0x7f56062b0dd8>"
            ]
          },
          "metadata": {
            "tags": []
          },
          "execution_count": 29
        },
        {
          "output_type": "display_data",
          "data": {
            "image/png": "[encoded data removed]",
            "text/plain": [
              "<Figure size 432x288 with 1 Axes>"
            ]
          },
          "metadata": {
            "tags": [],
            "needs_background": "light"
          }
        }
      ]
    },
    {
      "cell_type": "code",
      "metadata": {
        "id": "aqWrKPPYBdad",
        "colab_type": "code",
        "outputId": "49fad9fa-04d5-4bf8-9d7a-7fa7698d2c3e",
        "colab": {
          "base_uri": "https://localhost:8080/",
          "height": 283
        }
      },
      "source": [
        "plt.plot(results['train_acc'])\n",
        "plt.plot(results['val_acc'])\n",
        "plt.plot((0,20),(results['test_acc'],results['test_acc']))\n",
        "plt.legend(['training accuracy', 'validation accuracy','test Accuracy'])\n"
      ],
      "execution_count": 0,
      "outputs": [
        {
          "output_type": "execute_result",
          "data": {
            "text/plain": [
              "<matplotlib.legend.Legend at 0x7f5606fa8358>"
            ]
          },
          "metadata": {
            "tags": []
          },
          "execution_count": 30
        },
        {
          "output_type": "display_data",
          "data": {
            "image/png": "[encoded data removed]",
            "text/plain": [
              "<Figure size 432x288 with 1 Axes>"
            ]
          },
          "metadata": {
            "tags": [],
            "needs_background": "light"
          }
        }
      ]
    },
    {
      "cell_type": "code",
      "metadata": {
        "id": "KIZPRLEN-zZo",
        "colab_type": "code",
        "colab": {}
      },
      "source": [
        "def predict_category(text,Field_TEXT,Field_LABEL,classifier):\n",
        "    preprocessed_sample = [Field_TEXT.preprocess(sample)]\n",
        "    processed_sample = Field_TEXT.process(preprocessed_sample).to(args.device)\n",
        "    y_pred = classifier(processed_sample)\n",
        "    y_pred_np = y_pred.to(torch.device(\"cpu\")).detach().numpy()\n",
        "\n",
        "    return Field_LABEL.vocab.itos[np.argmax(y_pred_np)]\n"
      ],
      "execution_count": 0,
      "outputs": []
    },
    {
      "cell_type": "code",
      "metadata": {
        "id": "Yg8lytdC_RMI",
        "colab_type": "code",
        "outputId": "168b682a-05cb-4e16-fce5-cd6f5b888acb",
        "colab": {
          "base_uri": "https://localhost:8080/",
          "height": 35
        }
      },
      "source": [
        "sample = \"The merger did not work out\"\n",
        "predict_category(sample,Field_TEXT,Field_LABEL,classifier)"
      ],
      "execution_count": 0,
      "outputs": [
        {
          "output_type": "execute_result",
          "data": {
            "text/plain": [
              "'sport'"
            ]
          },
          "metadata": {
            "tags": []
          },
          "execution_count": 32
        }
      ]
    },
    {
      "cell_type": "code",
      "metadata": {
        "id": "lndRh1p8_9hL",
        "colab_type": "code",
        "outputId": "e55dac91-e7df-4109-e71e-55909a62c354",
        "colab": {
          "base_uri": "https://localhost:8080/",
          "height": 35
        }
      },
      "source": [
        "sample = \"India won by 7 wickets\"\n",
        "predict_category(sample,Field_TEXT,Field_LABEL,classifier)"
      ],
      "execution_count": 0,
      "outputs": [
        {
          "output_type": "execute_result",
          "data": {
            "text/plain": [
              "'sport'"
            ]
          },
          "metadata": {
            "tags": []
          },
          "execution_count": 33
        }
      ]
    },
    {
      "cell_type": "markdown",
      "metadata": {
        "id": "b7AIOSFfEFE4",
        "colab_type": "text"
      },
      "source": [
        "# *****************   End of NoteBook *****************"
      ]
    }
  ]
}