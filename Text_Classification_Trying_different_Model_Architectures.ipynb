{
  "nbformat": 4,
  "nbformat_minor": 0,
  "metadata": {
    "colab": {
      "name": "Text Classification - Trying different Model Architectures",
      "provenance": [],
      "collapsed_sections": [],
      "authorship_tag": "ABX9TyOUHKtfCXf7o4uR6KnSLvox",
      "include_colab_link": true
    },
    "kernelspec": {
      "name": "python3",
      "display_name": "Python 3"
    },
    "accelerator": "GPU"
  },
  "cells": [
    {
      "cell_type": "markdown",
      "metadata": {
        "id": "view-in-github",
        "colab_type": "text"
      },
      "source": [
        "<a href=\"https://colab.research.google.com/github/rsekhar-vai/nlptc_multimodels/blob/master/Text_Classification_Trying_different_Model_Architectures.ipynb\" target=\"_parent\"><img src=\"https://colab.research.google.com/assets/colab-badge.svg\" alt=\"Open In Colab\"/></a>"
      ]
    },
    {
      "cell_type": "markdown",
      "metadata": {
        "id": "iK41J9S1tbFM",
        "colab_type": "text"
      },
      "source": [
        "# Setup the Environment"
      ]
    },
    {
      "cell_type": "code",
      "metadata": {
        "id": "Rgv7Zkdxk_Rs",
        "colab_type": "code",
        "colab": {
          "base_uri": "https://localhost:8080/",
          "height": 52
        },
        "outputId": "45d3de61-81ce-48d9-fd00-6dedd505f373"
      },
      "source": [
        "%load_ext autoreload\n",
        "%autoreload 2"
      ],
      "execution_count": 63,
      "outputs": [
        {
          "output_type": "stream",
          "text": [
            "The autoreload extension is already loaded. To reload it, use:\n",
            "  %reload_ext autoreload\n"
          ],
          "name": "stdout"
        }
      ]
    },
    {
      "cell_type": "code",
      "metadata": {
        "id": "DhK0DzDxpYMR",
        "colab_type": "code",
        "outputId": "90527dce-102e-4bed-c8d6-6df6f1f182a6",
        "colab": {
          "base_uri": "https://localhost:8080/",
          "height": 139
        }
      },
      "source": [
        "!rm -r nlptc_multimodels\n",
        "!git clone https://github.com/rsekhar-vai/nlptc_multimodels.git"
      ],
      "execution_count": 64,
      "outputs": [
        {
          "output_type": "stream",
          "text": [
            "Cloning into 'nlptc_multimodels'...\n",
            "remote: Enumerating objects: 108, done.\u001b[K\n",
            "remote: Counting objects: 100% (108/108), done.\u001b[K\n",
            "remote: Compressing objects: 100% (65/65), done.\u001b[K\n",
            "remote: Total 108 (delta 48), reused 84 (delta 29), pack-reused 0\u001b[K\n",
            "Receiving objects: 100% (108/108), 41.80 MiB | 10.62 MiB/s, done.\n",
            "Resolving deltas: 100% (48/48), done.\n"
          ],
          "name": "stdout"
        }
      ]
    },
    {
      "cell_type": "code",
      "metadata": {
        "id": "5hmsXqGgBX43",
        "colab_type": "code",
        "outputId": "1fceee5f-626e-4bce-b95d-7bb4ca8f9065",
        "colab": {
          "base_uri": "https://localhost:8080/",
          "height": 364
        }
      },
      "source": [
        "!ls nlptc_multimodels -R"
      ],
      "execution_count": 65,
      "outputs": [
        {
          "output_type": "stream",
          "text": [
            "nlptc_multimodels:\n",
            " data\t      'Model Repo'   model_storage   README.md\t utilclasses.py\n",
            " __init__.py   models.py     __pycache__     run.py\t utilfunctions.py\n",
            "\n",
            "nlptc_multimodels/data:\n",
            "bbcheadlines_text.csv  init\t sample_submission.csv\ttrain.csv\n",
            "humor_text.csv\t       news.csv  test.csv\t\tval.csv\n",
            "\n",
            "'nlptc_multimodels/Model Repo':\n",
            "CharCNN_Simple.py  ConvRec_BiLSTM.py  __init__.py  VDCNN.py\n",
            "\n",
            "nlptc_multimodels/model_storage:\n",
            "Clf\n",
            "\n",
            "nlptc_multimodels/model_storage/Clf:\n",
            "model.pth\n",
            "\n",
            "nlptc_multimodels/__pycache__:\n",
            "__init__.cpython-36.pyc  utilclasses.cpython-36.pyc\n",
            "models.cpython-36.pyc\t utilfunctions.cpython-36.pyc\n"
          ],
          "name": "stdout"
        }
      ]
    },
    {
      "cell_type": "code",
      "metadata": {
        "id": "eknF2zAupmQQ",
        "colab_type": "code",
        "outputId": "998bf667-8828-415a-d2ea-631751d370bc",
        "colab": {
          "base_uri": "https://localhost:8080/",
          "height": 121
        }
      },
      "source": [
        "from argparse import Namespace\n",
        "from collections import Counter\n",
        "import json\n",
        "import os\n",
        "import re\n",
        "import string\n",
        "import numpy as np\n",
        "import pandas as pd\n",
        "import torch\n",
        "import torch.nn as nn\n",
        "import torch.nn.functional as F\n",
        "import torch.optim as optim\n",
        "from torch.utils.data import Dataset, DataLoader\n",
        "from tqdm import tqdm_notebook\n",
        "from sklearn import preprocessing\n",
        "from sklearn.model_selection import train_test_split\n",
        "import sys\n",
        "import spacy\n",
        "import torchtext\n",
        "from torchtext import data\n",
        "from torchtext.data import Field, BucketIterator\n",
        "from torchtext import vocab\n",
        "\n",
        "\n",
        "print('Python version:',sys.version)\n",
        "print('Pandas version:',pd.__version__)\n",
        "print('Pytorch version:', torch.__version__)\n",
        "print('Torch Text version:', torchtext.__version__)\n",
        "print('Spacy version:', spacy.__version__)\n"
      ],
      "execution_count": 66,
      "outputs": [
        {
          "output_type": "stream",
          "text": [
            "Python version: 3.6.9 (default, Apr 18 2020, 01:56:04) \n",
            "[GCC 8.4.0]\n",
            "Pandas version: 1.0.3\n",
            "Pytorch version: 1.5.0+cu101\n",
            "Torch Text version: 0.3.1\n",
            "Spacy version: 2.2.4\n"
          ],
          "name": "stdout"
        }
      ]
    },
    {
      "cell_type": "code",
      "metadata": {
        "id": "n9SvdE3mV5ZL",
        "colab_type": "code",
        "colab": {}
      },
      "source": [
        "import sys\n",
        "sys.path.append(\"nlptc_multimodels\")"
      ],
      "execution_count": 0,
      "outputs": []
    },
    {
      "cell_type": "code",
      "metadata": {
        "id": "c9vnHN-xoqL9",
        "colab_type": "code",
        "colab": {}
      },
      "source": [
        "from nlptc_multimodels.utilfunctions import *\n",
        "from nlptc_multimodels.utilclasses import *\n",
        "from nlptc_multimodels.models import *\n"
      ],
      "execution_count": 0,
      "outputs": []
    },
    {
      "cell_type": "code",
      "metadata": {
        "id": "inC1xAgJoUiR",
        "colab_type": "code",
        "outputId": "ad5dec53-a6f0-4f56-9a17-81c954a55e2b",
        "colab": {
          "base_uri": "https://localhost:8080/",
          "height": 69
        }
      },
      "source": [
        "  args = Namespace(\n",
        "      #text_csv=None, # updated subsequently\n",
        "      train_csv=\"nlptc_multimodels/data/train.csv\",\n",
        "      val_csv=\"nlptc_multimodels/data/val.csv\",\n",
        "      test_csv=\"nlptc_multimodels/data/test.csv\",\n",
        "      model_state_file=\"model.pth\",\n",
        "      save_dir=\"model_storage/Clf\",\n",
        "      glove_filepath='D:\\\\Projects\\\\Text Analytics\\\\Glove\\\\glove.6B.100d.txt',\n",
        "      hidden_dim=100,\n",
        "      num_channels=100,\n",
        "      seed=1337,\n",
        "      learning_rate=0.001,\n",
        "      dropout_p=0.1,\n",
        "      batch_size=64,\n",
        "      num_epochs=20,\n",
        "      early_stopping_criteria=5,\n",
        "      cuda=True,\n",
        "      catch_keyboard_interrupt=True,\n",
        "      reload_from_files=False,\n",
        "      expand_filepaths_to_save_dir=True,\n",
        "      token_type = 'w',\n",
        "      max_text_length = 256,\n",
        "      pretrained_embeddings= 'Glove',\n",
        "      embedding_size=100,\n",
        "  )\n",
        "  setup_environment(args)\n"
      ],
      "execution_count": 69,
      "outputs": [
        {
          "output_type": "stream",
          "text": [
            "Expanded filepaths: \n",
            "\tmodel_storage/Clf/model.pth\n",
            "Using CUDA: True\n"
          ],
          "name": "stdout"
        }
      ]
    },
    {
      "cell_type": "markdown",
      "metadata": {
        "id": "i3LQT9-ct_qA",
        "colab_type": "text"
      },
      "source": [
        "# Load and prepare the Data\n",
        "Text data file should have columns named as 'text' and 'category'. If the names are different, they should be renamed before processing further"
      ]
    },
    {
      "cell_type": "code",
      "metadata": {
        "id": "G4BkMI9ts8ky",
        "colab_type": "code",
        "colab": {}
      },
      "source": [
        "#args.text_csv = \"nlptc_multimodels/data/news.csv\"\n",
        "#args.text_column, args.label_column = 'title', 'category'      # for news text\n",
        "\n",
        "#args.text_csv=\"nlptc_multimodels/data/humor_text.csv\"\n",
        "#args.text_column, args.label_column = 'text', 'humor'         #for humor text\n",
        "\n",
        "args.text_csv = \"nlptc_multimodels/data/bbcheadlines_text.csv\"\n",
        "args.text_column, args.label_column = 'text', 'category'      # for bbcheadlines text\n",
        "\n",
        "#args.text_csv = \"nlptc_multimodels/data/tweet_text.csv\"\n",
        "#args.text_column, args.label_column = 'text', 'type'          #for tweet text      \n"
      ],
      "execution_count": 0,
      "outputs": []
    },
    {
      "cell_type": "code",
      "metadata": {
        "id": "m-bXZv9tFuHv",
        "colab_type": "code",
        "colab": {}
      },
      "source": [
        "dataset = TextDataset(args)"
      ],
      "execution_count": 0,
      "outputs": []
    },
    {
      "cell_type": "code",
      "metadata": {
        "id": "mJy1xUk2topq",
        "colab_type": "code",
        "outputId": "8034c7f0-c3e3-4b97-8f37-9ccbe15c6d06",
        "colab": {
          "base_uri": "https://localhost:8080/",
          "height": 35
        }
      },
      "source": [
        "print(dataset.train_df.columns)"
      ],
      "execution_count": 72,
      "outputs": [
        {
          "output_type": "stream",
          "text": [
            "Index(['text', 'category'], dtype='object')\n"
          ],
          "name": "stdout"
        }
      ]
    },
    {
      "cell_type": "code",
      "metadata": {
        "id": "7lUgn56QpqL0",
        "colab_type": "code",
        "outputId": "e0be6343-7b66-4372-eb1e-379728e11dd9",
        "colab": {
          "base_uri": "https://localhost:8080/",
          "height": 202
        }
      },
      "source": [
        "dataset.train_df.head()"
      ],
      "execution_count": 73,
      "outputs": [
        {
          "output_type": "execute_result",
          "data": {
            "text/html": [
              "<div>\n",
              "<style scoped>\n",
              "    .dataframe tbody tr th:only-of-type {\n",
              "        vertical-align: middle;\n",
              "    }\n",
              "\n",
              "    .dataframe tbody tr th {\n",
              "        vertical-align: top;\n",
              "    }\n",
              "\n",
              "    .dataframe thead th {\n",
              "        text-align: right;\n",
              "    }\n",
              "</style>\n",
              "<table border=\"1\" class=\"dataframe\">\n",
              "  <thead>\n",
              "    <tr style=\"text-align: right;\">\n",
              "      <th></th>\n",
              "      <th>text</th>\n",
              "      <th>category</th>\n",
              "    </tr>\n",
              "  </thead>\n",
              "  <tbody>\n",
              "    <tr>\n",
              "      <th>1541</th>\n",
              "      <td>pete doherty misses bail deadline singer pete ...</td>\n",
              "      <td>entertainment</td>\n",
              "    </tr>\n",
              "    <tr>\n",
              "      <th>1186</th>\n",
              "      <td>santini resigns as spurs manager tottenham man...</td>\n",
              "      <td>sport</td>\n",
              "    </tr>\n",
              "    <tr>\n",
              "      <th>2182</th>\n",
              "      <td>google launches tv search service the net sear...</td>\n",
              "      <td>tech</td>\n",
              "    </tr>\n",
              "    <tr>\n",
              "      <th>1228</th>\n",
              "      <td>savvy searchers fail to spot ads internet sear...</td>\n",
              "      <td>tech</td>\n",
              "    </tr>\n",
              "    <tr>\n",
              "      <th>1302</th>\n",
              "      <td>gebrselassie in london triple bid double olymp...</td>\n",
              "      <td>sport</td>\n",
              "    </tr>\n",
              "  </tbody>\n",
              "</table>\n",
              "</div>"
            ],
            "text/plain": [
              "                                                   text       category\n",
              "1541  pete doherty misses bail deadline singer pete ...  entertainment\n",
              "1186  santini resigns as spurs manager tottenham man...          sport\n",
              "2182  google launches tv search service the net sear...           tech\n",
              "1228  savvy searchers fail to spot ads internet sear...           tech\n",
              "1302  gebrselassie in london triple bid double olymp...          sport"
            ]
          },
          "metadata": {
            "tags": []
          },
          "execution_count": 73
        }
      ]
    },
    {
      "cell_type": "markdown",
      "metadata": {
        "id": "aXauuKqj3wgt",
        "colab_type": "text"
      },
      "source": [
        "# Build Simple Char CNN"
      ]
    },
    {
      "cell_type": "code",
      "metadata": {
        "id": "pavGzAhmueTJ",
        "colab_type": "code",
        "colab": {}
      },
      "source": [
        "args.token_type = 'c'   # for Character tokens token_type should be set to 'c'\n",
        "args.max_text_length = 256\n",
        "args.tokenizer = Tokenizer(args).tokenizer\n",
        "args.word_vectors = []    # for Char tokenization, word vectors should be set to empty list or None\n",
        "pp = PreProcessor(args)"
      ],
      "execution_count": 0,
      "outputs": []
    },
    {
      "cell_type": "code",
      "metadata": {
        "id": "_S4E7doFey4r",
        "colab_type": "code",
        "colab": {}
      },
      "source": [
        "classifier = SimpleCNN(embedding_size=args.embedding_size,\n",
        "                        num_embeddings=pp.get_text_vocab_length(),\n",
        "                        num_channels=args.num_channels,\n",
        "                        hidden_dim=args.hidden_dim,\n",
        "                        num_classes=pp.get_label_vocab_length(),\n",
        "                        dropout_p=args.dropout_p,\n",
        "                        pretrained_embeddings=pp.get_embeddings(),\n",
        "                        padding_idx=0)\n",
        "classifier = classifier.to(args.device)"
      ],
      "execution_count": 0,
      "outputs": []
    },
    {
      "cell_type": "code",
      "metadata": {
        "id": "ZgluFDpo4XC3",
        "colab_type": "code",
        "outputId": "57acbc2d-3bdf-41f8-a019-ca0c34447fce",
        "colab": {
          "base_uri": "https://localhost:8080/",
          "height": 35
        }
      },
      "source": [
        "loss_func = nn.CrossEntropyLoss()\n",
        "optimizer = optim.Adam(classifier.parameters(), lr=args.learning_rate)\n",
        "scheduler = optim.lr_scheduler.ReduceLROnPlateau(optimizer=optimizer,\n",
        "                                                  mode='min', factor=0.5,\n",
        "                                                  patience=1)\n",
        "print(\"------- # of Parameters ---->: \", sum(p.numel() for p in classifier.parameters() if p.requires_grad))\n"
      ],
      "execution_count": 76,
      "outputs": [
        {
          "output_type": "stream",
          "text": [
            "------- # of Parameters ---->:  134905\n"
          ],
          "name": "stdout"
        }
      ]
    },
    {
      "cell_type": "code",
      "metadata": {
        "id": "5AB60HS5mzgD",
        "colab_type": "code",
        "outputId": "87e1462e-f7cf-4d0f-d1a3-e9457cd2fb2c",
        "colab": {
          "base_uri": "https://localhost:8080/",
          "height": 1000
        }
      },
      "source": [
        "results = build_model(args, pp, classifier, loss_func, optimizer, scheduler);\n",
        "print(results)"
      ],
      "execution_count": 84,
      "outputs": [
        {
          "output_type": "stream",
          "text": [
            "--------------------- @epoch  0 ---------------------\n",
            "  training loss/accuracy 1.15896 / 50.27\n",
            "validation loss/accuracy 1.39441 / 41.00\n",
            "--------------------- @epoch  1 ---------------------\n",
            "  training loss/accuracy 1.09019 / 55.49\n",
            "validation loss/accuracy 1.35038 / 44.94\n",
            "--------------------- @epoch  2 ---------------------\n",
            "  training loss/accuracy 1.04586 / 58.39\n",
            "validation loss/accuracy 1.34017 / 45.40\n",
            "--------------------- @epoch  3 ---------------------\n",
            "  training loss/accuracy 0.99506 / 59.30\n",
            "validation loss/accuracy 1.33819 / 44.97\n",
            "--------------------- @epoch  4 ---------------------\n",
            "  training loss/accuracy 0.96171 / 60.04\n",
            "validation loss/accuracy 1.34435 / 44.12\n",
            "--------------------- @epoch  5 ---------------------\n",
            "  training loss/accuracy 0.93600 / 61.40\n",
            "validation loss/accuracy 1.35013 / 43.64\n",
            "--------------------- @epoch  6 ---------------------\n",
            "  training loss/accuracy 0.91075 / 64.46\n",
            "validation loss/accuracy 1.34923 / 46.75\n",
            "--------------------- @epoch  7 ---------------------\n",
            "  training loss/accuracy 0.92268 / 61.81\n",
            "validation loss/accuracy 1.44773 / 45.61\n",
            "--------------------- @epoch  8 ---------------------\n",
            "  training loss/accuracy 0.87502 / 64.95\n",
            "validation loss/accuracy 1.32791 / 47.16\n",
            "--------------------- @epoch  9 ---------------------\n",
            "  training loss/accuracy 0.84746 / 66.68\n",
            "validation loss/accuracy 1.33516 / 44.51\n",
            "--------------------- @epoch  10 ---------------------\n",
            "  training loss/accuracy 0.83115 / 66.97\n",
            "validation loss/accuracy 1.34557 / 45.85\n",
            "--------------------- @epoch  11 ---------------------\n",
            "  training loss/accuracy 0.81650 / 67.22\n",
            "validation loss/accuracy 1.35578 / 47.83\n",
            "--------------------- @epoch  12 ---------------------\n",
            "  training loss/accuracy 0.82215 / 67.02\n",
            "validation loss/accuracy 1.35572 / 46.06\n",
            "--------------------- @epoch  13 ---------------------\n",
            "  training loss/accuracy 0.80999 / 68.74\n",
            "validation loss/accuracy 1.35307 / 45.40\n",
            "--------------------- @epoch  14 ---------------------\n",
            "  training loss/accuracy 0.80449 / 70.15\n",
            "validation loss/accuracy 1.37382 / 45.39\n",
            "--------------------- @epoch  15 ---------------------\n",
            "  training loss/accuracy 0.80407 / 68.49\n",
            "validation loss/accuracy 1.33787 / 47.84\n",
            "--------------------- @epoch  16 ---------------------\n",
            "  training loss/accuracy 0.80972 / 68.01\n",
            "validation loss/accuracy 1.34593 / 45.83\n",
            "--------------------- @epoch  17 ---------------------\n",
            "  training loss/accuracy 0.80378 / 68.65\n",
            "validation loss/accuracy 1.33543 / 46.95\n",
            "--------------------- @epoch  18 ---------------------\n",
            "  training loss/accuracy 0.79868 / 68.19\n",
            "validation loss/accuracy 1.35474 / 46.52\n",
            "--------------------- @epoch  19 ---------------------\n",
            "  training loss/accuracy 0.80289 / 68.73\n",
            "validation loss/accuracy 1.35355 / 48.92\n",
            "Test loss: 1.265\n",
            "Test Accuracy: 50.64\n",
            "{'stop_early': False, 'early_stopping_step': 0, 'early_stopping_best_val': 100000000.0, 'learning_rate': 0.001, 'epoch_index': 19, 'train_loss': [1.1589624673128127, 1.0901901215314866, 1.0458571761846542, 0.9950561910867689, 0.9617052733898164, 0.9359961867332458, 0.9107548713684083, 0.9226830899715422, 0.8750186413526534, 0.8474586695432663, 0.831150445342064, 0.8164960443973542, 0.8221469670534133, 0.8099913388490677, 0.8044909685850146, 0.8040722310543061, 0.8097240954637527, 0.8037791550159454, 0.7986837178468704, 0.8028854995965957], 'train_acc': [50.26785714285714, 55.48883928571428, 58.39062500000001, 59.30357142857142, 60.04464285714286, 61.39732142857143, 64.45758928571429, 61.814732142857146, 64.953125, 66.68303571428572, 66.97098214285715, 67.21875, 67.02232142857142, 68.74107142857142, 70.14732142857144, 68.49330357142857, 68.01116071428574, 68.64955357142857, 68.19419642857143, 68.72767857142857], 'val_loss': [1.3944087879998341, 1.3503806420734952, 1.3401683568954468, 1.3381897040775843, 1.3443535225731986, 1.3501271520342144, 1.3492328269141063, 1.4477280208042689, 1.3279143231255668, 1.3351625885282243, 1.345565608569554, 1.3557791199002949, 1.3557186126708984, 1.3530696460178921, 1.3738221781594413, 1.3378727095467704, 1.345934339932033, 1.3354288339614868, 1.3547405345099313, 1.3535491057804652], 'val_acc': [41.00378787878788, 44.94047619047619, 45.4004329004329, 44.967532467532465, 44.115259740259745, 43.641774891774894, 46.753246753246756, 45.61011904761905, 47.15909090909091, 44.50757575757576, 45.84686147186147, 47.82873376623377, 46.05654761904762, 45.400432900432904, 45.38690476190476, 47.842261904761905, 45.833333333333336, 46.94940476190476, 46.516504329004334, 48.917748917748916], 'test_loss': 1.264773342344496, 'test_acc': 50.64429012345679, 'model_filename': 'model_storage/Clf/model.pth'}\n"
          ],
          "name": "stdout"
        }
      ]
    },
    {
      "cell_type": "code",
      "metadata": {
        "id": "2EVccarrYu15",
        "colab_type": "code",
        "outputId": "bac77202-ce10-4e1f-9d5d-e23d72e63e32",
        "colab": {
          "base_uri": "https://localhost:8080/",
          "height": 513
        }
      },
      "source": [
        "plot_results(results)"
      ],
      "execution_count": 78,
      "outputs": [
        {
          "output_type": "display_data",
          "data": {
            "image/png": "[encoded data removed]",
            "text/plain": [
              "<Figure size 432x288 with 1 Axes>"
            ]
          },
          "metadata": {
            "tags": [],
            "needs_background": "light"
          }
        },
        {
          "output_type": "display_data",
          "data": {
            "image/png": "[encoded data removed]",
            "text/plain": [
              "<Figure size 432x288 with 1 Axes>"
            ]
          },
          "metadata": {
            "tags": [],
            "needs_background": "light"
          }
        }
      ]
    },
    {
      "cell_type": "code",
      "metadata": {
        "id": "Yg8lytdC_RMI",
        "colab_type": "code",
        "outputId": "36f298a9-c7ea-4f26-f58b-a1784082db04",
        "colab": {
          "base_uri": "https://localhost:8080/",
          "height": 35
        }
      },
      "source": [
        "sample = \"The merger did not work out\"\n",
        "predict_category(sample,args,pp,classifier)"
      ],
      "execution_count": 79,
      "outputs": [
        {
          "output_type": "execute_result",
          "data": {
            "text/plain": [
              "'business'"
            ]
          },
          "metadata": {
            "tags": []
          },
          "execution_count": 79
        }
      ]
    },
    {
      "cell_type": "code",
      "metadata": {
        "id": "lndRh1p8_9hL",
        "colab_type": "code",
        "colab": {
          "base_uri": "https://localhost:8080/",
          "height": 35
        },
        "outputId": "cca1819e-9077-4aa2-a7e1-873c994db4bf"
      },
      "source": [
        "sample = \"India won by 7 wickets\"\n",
        "predict_category(sample,args,pp,classifier)"
      ],
      "execution_count": 81,
      "outputs": [
        {
          "output_type": "execute_result",
          "data": {
            "text/plain": [
              "'business'"
            ]
          },
          "metadata": {
            "tags": []
          },
          "execution_count": 81
        }
      ]
    },
    {
      "cell_type": "code",
      "metadata": {
        "id": "EdwLn_WCeMJ-",
        "colab_type": "code",
        "colab": {}
      },
      "source": [
        ""
      ],
      "execution_count": 0,
      "outputs": []
    },
    {
      "cell_type": "markdown",
      "metadata": {
        "colab_type": "text",
        "id": "kZ5a1iAFeMdf"
      },
      "source": [
        "# Build Simple Word CNN"
      ]
    },
    {
      "cell_type": "code",
      "metadata": {
        "colab_type": "code",
        "id": "nimk304keMdh",
        "colab": {
          "base_uri": "https://localhost:8080/",
          "height": 52
        },
        "outputId": "a75c1ebd-2f00-4f72-8b37-ea325d1d1124"
      },
      "source": [
        "args.token_type = 'w'   # for Word tokenization, token_type should be set to 'w'\n",
        "args.max_text_length = 256\n",
        "args.tokenizer = Tokenizer(args).tokenizer\n",
        "args.word_vectors = 'glove.6B.100d'   # when usinig word tokenization, we can use pre trained word vectors like Glove, FastText\n",
        "pp = PreProcessor(args)"
      ],
      "execution_count": 87,
      "outputs": [
        {
          "output_type": "stream",
          "text": [
            ".vector_cache/glove.6B.zip: 862MB [06:30, 2.21MB/s]                           \n",
            "100%|█████████▉| 399367/400000 [00:25<00:00, 18086.97it/s]"
          ],
          "name": "stderr"
        }
      ]
    },
    {
      "cell_type": "code",
      "metadata": {
        "colab_type": "code",
        "id": "Gps7h5ifeMdn",
        "colab": {}
      },
      "source": [
        "classifier = SimpleCNN(embedding_size=args.embedding_size,\n",
        "                        num_embeddings=pp.get_text_vocab_length(),\n",
        "                        num_channels=args.num_channels,\n",
        "                        hidden_dim=args.hidden_dim,\n",
        "                        num_classes=pp.get_label_vocab_length(),\n",
        "                        dropout_p=args.dropout_p,\n",
        "                        pretrained_embeddings=pp.get_embeddings(),\n",
        "                        padding_idx=0)\n",
        "classifier = classifier.to(args.device)"
      ],
      "execution_count": 0,
      "outputs": []
    },
    {
      "cell_type": "code",
      "metadata": {
        "colab_type": "code",
        "outputId": "c5e1070e-509b-4003-c09e-32b9a0323f32",
        "id": "xt-q6CUqeMdq",
        "colab": {
          "base_uri": "https://localhost:8080/",
          "height": 35
        }
      },
      "source": [
        "loss_func = nn.CrossEntropyLoss()\n",
        "optimizer = optim.Adam(classifier.parameters(), lr=args.learning_rate)\n",
        "scheduler = optim.lr_scheduler.ReduceLROnPlateau(optimizer=optimizer,\n",
        "                                                  mode='min', factor=0.5,\n",
        "                                                  patience=1)\n",
        "print(\"------- # of Parameters ---->: \", sum(p.numel() for p in classifier.parameters() if p.requires_grad))\n"
      ],
      "execution_count": 89,
      "outputs": [
        {
          "output_type": "stream",
          "text": [
            "------- # of Parameters ---->:  2631205\n"
          ],
          "name": "stdout"
        }
      ]
    },
    {
      "cell_type": "code",
      "metadata": {
        "colab_type": "code",
        "outputId": "41e31ee4-393f-4188-b91b-cfd71d42fbb1",
        "id": "nFJOwLKJeMds",
        "colab": {
          "base_uri": "https://localhost:8080/",
          "height": 1000
        }
      },
      "source": [
        "results = build_model(args, pp, classifier, loss_func, optimizer, scheduler);\n",
        "print(results)"
      ],
      "execution_count": 90,
      "outputs": [
        {
          "output_type": "stream",
          "text": [
            "--------------------- @epoch  0 ---------------------\n",
            "  training loss/accuracy 1.56402 / 32.04\n",
            "validation loss/accuracy 1.33788 / 48.29\n",
            "--------------------- @epoch  1 ---------------------\n",
            "  training loss/accuracy 1.01827 / 54.40\n",
            "validation loss/accuracy 0.62569 / 75.99\n",
            "--------------------- @epoch  2 ---------------------\n",
            "  training loss/accuracy 0.48007 / 82.39\n",
            "validation loss/accuracy 0.40964 / 84.43\n",
            "--------------------- @epoch  3 ---------------------\n",
            "  training loss/accuracy 0.32735 / 88.54\n",
            "validation loss/accuracy 0.45580 / 82.88\n",
            "--------------------- @epoch  4 ---------------------\n",
            "  training loss/accuracy 0.21719 / 91.62\n",
            "validation loss/accuracy 0.35881 / 85.77\n",
            "--------------------- @epoch  5 ---------------------\n",
            "  training loss/accuracy 0.15187 / 94.31\n",
            "validation loss/accuracy 0.31052 / 88.88\n",
            "--------------------- @epoch  6 ---------------------\n",
            "  training loss/accuracy 0.09448 / 96.89\n",
            "validation loss/accuracy 0.18364 / 93.57\n",
            "--------------------- @epoch  7 ---------------------\n",
            "  training loss/accuracy 0.04824 / 98.59\n",
            "validation loss/accuracy 0.20043 / 92.90\n",
            "--------------------- @epoch  8 ---------------------\n",
            "  training loss/accuracy 0.02168 / 99.53\n",
            "validation loss/accuracy 0.24926 / 92.21\n",
            "--------------------- @epoch  9 ---------------------\n",
            "  training loss/accuracy 0.02058 / 99.30\n",
            "validation loss/accuracy 0.23649 / 93.78\n",
            "--------------------- @epoch  10 ---------------------\n",
            "  training loss/accuracy 0.02324 / 99.30\n",
            "validation loss/accuracy 0.29785 / 93.09\n",
            "--------------------- @epoch  11 ---------------------\n",
            "  training loss/accuracy 0.02269 / 99.23\n",
            "validation loss/accuracy 0.17628 / 94.88\n",
            "--------------------- @epoch  12 ---------------------\n",
            "  training loss/accuracy 0.00936 / 99.84\n",
            "validation loss/accuracy 0.16314 / 94.67\n",
            "--------------------- @epoch  13 ---------------------\n",
            "  training loss/accuracy 0.00543 / 100.00\n",
            "validation loss/accuracy 0.16898 / 93.55\n",
            "--------------------- @epoch  14 ---------------------\n",
            "  training loss/accuracy 0.00466 / 100.00\n",
            "validation loss/accuracy 0.17728 / 94.43\n",
            "--------------------- @epoch  15 ---------------------\n",
            "  training loss/accuracy 0.00448 / 100.00\n",
            "validation loss/accuracy 0.18428 / 94.00\n",
            "--------------------- @epoch  16 ---------------------\n",
            "  training loss/accuracy 0.00440 / 100.00\n",
            "validation loss/accuracy 0.17570 / 94.00\n",
            "--------------------- @epoch  17 ---------------------\n",
            "  training loss/accuracy 0.00443 / 100.00\n",
            "validation loss/accuracy 0.19732 / 94.66\n",
            "--------------------- @epoch  18 ---------------------\n",
            "  training loss/accuracy 0.00379 / 100.00\n",
            "validation loss/accuracy 0.18407 / 94.88\n",
            "--------------------- @epoch  19 ---------------------\n",
            "  training loss/accuracy 0.00307 / 100.00\n",
            "validation loss/accuracy 0.18970 / 94.45\n",
            "Test loss: 0.220\n",
            "Test Accuracy: 94.50\n",
            "{'stop_early': False, 'early_stopping_step': 0, 'early_stopping_best_val': 100000000.0, 'learning_rate': 0.001, 'epoch_index': 19, 'train_loss': [1.5640219449996948, 1.018274311721325, 0.4800659969449043, 0.32735318318009377, 0.21718944609165192, 0.15186884738504886, 0.09448295850306748, 0.04823513170704245, 0.02167958514764905, 0.020580835151486104, 0.023240155167877675, 0.022687998414039613, 0.009357003401964903, 0.0054310902021825315, 0.0046552438172511755, 0.004477586783468724, 0.0043992835329845536, 0.00443209889344871, 0.0037933497107587753, 0.003066399518866092], 'train_acc': [32.042410714285715, 54.39732142857143, 82.38616071428572, 88.54464285714286, 91.61607142857144, 94.31249999999999, 96.88839285714285, 98.59375000000001, 99.53125, 99.29687500000001, 99.296875, 99.23214285714286, 99.84374999999999, 100.0, 100.0, 100.0, 100.0, 100.0, 100.0, 100.0], 'val_loss': [1.337881428854806, 0.6256887529577528, 0.40964424184390474, 0.45580484185900005, 0.3588063653026308, 0.31051582523754667, 0.18364239696945464, 0.2004319769995553, 0.24925899612052102, 0.23649486473628453, 0.2978467696479389, 0.17628416951213563, 0.16313512623310092, 0.1689773430781705, 0.17727646763835633, 0.18428493716887065, 0.17569890458668982, 0.19731939477579935, 0.18406968989542552, 0.18969818630388804], 'val_acc': [48.288690476190474, 75.98755411255412, 84.42911255411256, 82.8801406926407, 85.76839826839827, 88.87987012987011, 93.56737012987013, 92.89772727272727, 92.21455627705627, 93.77705627705627, 93.09388528138528, 94.87959956709958, 94.66991341991341, 93.553841991342, 94.433170995671, 94.00027056277055, 94.00027056277057, 94.65638528138528, 94.87959956709958, 94.44669913419914], 'test_loss': 0.2202278118994501, 'test_acc': 94.49845679012346, 'model_filename': 'model_storage/Clf/model.pth'}\n"
          ],
          "name": "stdout"
        }
      ]
    },
    {
      "cell_type": "code",
      "metadata": {
        "colab_type": "code",
        "outputId": "2923719c-bd27-4c67-d1ce-296debcea3f7",
        "id": "Zxf1ctVgeMdu",
        "colab": {
          "base_uri": "https://localhost:8080/",
          "height": 513
        }
      },
      "source": [
        "plot_results(results)"
      ],
      "execution_count": 91,
      "outputs": [
        {
          "output_type": "display_data",
          "data": {
            "image/png": "[encoded data removed]",
            "text/plain": [
              "<Figure size 432x288 with 1 Axes>"
            ]
          },
          "metadata": {
            "tags": [],
            "needs_background": "light"
          }
        },
        {
          "output_type": "display_data",
          "data": {
            "image/png": "[encoded data removed]",
            "text/plain": [
              "<Figure size 432x288 with 1 Axes>"
            ]
          },
          "metadata": {
            "tags": [],
            "needs_background": "light"
          }
        }
      ]
    },
    {
      "cell_type": "code",
      "metadata": {
        "colab_type": "code",
        "outputId": "cf634704-490b-4f74-ec38-43136ea23646",
        "id": "UflpMyb3eMdw",
        "colab": {
          "base_uri": "https://localhost:8080/",
          "height": 35
        }
      },
      "source": [
        "sample = \"workers went on strike for increase of minimum wage\"\n",
        "predict_category(sample,args,pp,classifier)"
      ],
      "execution_count": 101,
      "outputs": [
        {
          "output_type": "execute_result",
          "data": {
            "text/plain": [
              "'politics'"
            ]
          },
          "metadata": {
            "tags": []
          },
          "execution_count": 101
        }
      ]
    },
    {
      "cell_type": "code",
      "metadata": {
        "colab_type": "code",
        "outputId": "ad73ef6b-fad7-476d-8f27-fb7b8163cca6",
        "id": "_AKan1_zeMd0",
        "colab": {
          "base_uri": "https://localhost:8080/",
          "height": 35
        }
      },
      "source": [
        "sample = \"India won by 7 wickets\"\n",
        "predict_category(sample,args,pp,classifier)"
      ],
      "execution_count": 93,
      "outputs": [
        {
          "output_type": "execute_result",
          "data": {
            "text/plain": [
              "'sport'"
            ]
          },
          "metadata": {
            "tags": []
          },
          "execution_count": 93
        }
      ]
    },
    {
      "cell_type": "code",
      "metadata": {
        "id": "kprBiovTidoK",
        "colab_type": "code",
        "colab": {}
      },
      "source": [
        ""
      ],
      "execution_count": 0,
      "outputs": []
    },
    {
      "cell_type": "markdown",
      "metadata": {
        "colab_type": "text",
        "id": "1RgKMqeoid0y"
      },
      "source": [
        "# Build CNN+Bidirectional LSTM"
      ]
    },
    {
      "cell_type": "code",
      "metadata": {
        "colab_type": "code",
        "outputId": "a75c1ebd-2f00-4f72-8b37-ea325d1d1124",
        "id": "ldaODhOUid00",
        "colab": {
          "base_uri": "https://localhost:8080/",
          "height": 52
        }
      },
      "source": [
        "args.token_type = 'w'   # for Word tokenization, token_type should be set to 'w'\n",
        "args.max_text_length = 256\n",
        "args.tokenizer = Tokenizer(args).tokenizer\n",
        "args.word_vectors = 'glove.6B.100d'   # when usinig word tokenization, we can use pre trained word vectors like Glove, FastText\n",
        "pp = PreProcessor(args)"
      ],
      "execution_count": 0,
      "outputs": [
        {
          "output_type": "stream",
          "text": [
            ".vector_cache/glove.6B.zip: 862MB [06:30, 2.21MB/s]                           \n",
            "100%|█████████▉| 399367/400000 [00:25<00:00, 18086.97it/s]"
          ],
          "name": "stderr"
        }
      ]
    },
    {
      "cell_type": "code",
      "metadata": {
        "colab_type": "code",
        "id": "SV3KkBCDid08",
        "colab": {}
      },
      "source": [
        "classifier = ConvRec_BiLSTM(text_length=args.max_text_length,\n",
        "                            embedding_size=args.embedding_size,\n",
        "                            num_embeddings=pp.get_text_vocab_length(),\n",
        "                            num_channels=args.num_channels,\n",
        "                            hidden_dim=args.hidden_dim,\n",
        "                            num_classes=pp.get_label_vocab_length(),\n",
        "                            dropout_p=args.dropout_p,\n",
        "                            pretrained_embeddings=pp.get_embeddings(),\n",
        "                            padding_idx=0)\n",
        "classifier = classifier.to(args.device)"
      ],
      "execution_count": 0,
      "outputs": []
    },
    {
      "cell_type": "code",
      "metadata": {
        "colab_type": "code",
        "outputId": "588e52fc-3461-47a3-e882-50df1089e4af",
        "id": "Zizy58Hdid1A",
        "colab": {
          "base_uri": "https://localhost:8080/",
          "height": 35
        }
      },
      "source": [
        "loss_func = nn.CrossEntropyLoss()\n",
        "optimizer = optim.Adam(classifier.parameters(), lr=args.learning_rate)\n",
        "scheduler = optim.lr_scheduler.ReduceLROnPlateau(optimizer=optimizer,\n",
        "                                                  mode='min', factor=0.5,\n",
        "                                                  patience=1)\n",
        "print(\"------- # of Parameters ---->: \", sum(p.numel() for p in classifier.parameters() if p.requires_grad))\n"
      ],
      "execution_count": 103,
      "outputs": [
        {
          "output_type": "stream",
          "text": [
            "------- # of Parameters ---->:  2712605\n"
          ],
          "name": "stdout"
        }
      ]
    },
    {
      "cell_type": "code",
      "metadata": {
        "colab_type": "code",
        "outputId": "c4cdaecd-fa78-4163-fc25-0590a2338a25",
        "id": "UaFVlZzOid1D",
        "colab": {
          "base_uri": "https://localhost:8080/",
          "height": 1000
        }
      },
      "source": [
        "results = build_model(args, pp, classifier, loss_func, optimizer, scheduler);\n",
        "print(results)"
      ],
      "execution_count": 104,
      "outputs": [
        {
          "output_type": "stream",
          "text": [
            "--------------------- @epoch  0 ---------------------\n",
            "  training loss/accuracy 1.63606 / 22.90\n",
            "validation loss/accuracy 1.60362 / 20.90\n",
            "--------------------- @epoch  1 ---------------------\n",
            "  training loss/accuracy 1.55749 / 30.73\n",
            "validation loss/accuracy 1.48882 / 44.07\n",
            "--------------------- @epoch  2 ---------------------\n",
            "  training loss/accuracy 1.28379 / 44.88\n",
            "validation loss/accuracy 1.20513 / 44.07\n",
            "--------------------- @epoch  3 ---------------------\n",
            "  training loss/accuracy 1.10704 / 48.55\n",
            "validation loss/accuracy 1.21359 / 46.95\n",
            "--------------------- @epoch  4 ---------------------\n",
            "  training loss/accuracy 0.93503 / 60.54\n",
            "validation loss/accuracy 0.88270 / 61.55\n",
            "--------------------- @epoch  5 ---------------------\n",
            "  training loss/accuracy 0.72990 / 71.02\n",
            "validation loss/accuracy 0.74431 / 74.48\n",
            "--------------------- @epoch  6 ---------------------\n",
            "  training loss/accuracy 0.41579 / 88.21\n",
            "validation loss/accuracy 0.48363 / 85.10\n",
            "--------------------- @epoch  7 ---------------------\n",
            "  training loss/accuracy 0.19571 / 94.64\n",
            "validation loss/accuracy 0.33127 / 89.98\n",
            "--------------------- @epoch  8 ---------------------\n",
            "  training loss/accuracy 0.18380 / 94.70\n",
            "validation loss/accuracy 0.77763 / 75.79\n",
            "--------------------- @epoch  9 ---------------------\n",
            "  training loss/accuracy 0.17363 / 94.54\n",
            "validation loss/accuracy 0.23734 / 93.11\n",
            "--------------------- @epoch  10 ---------------------\n",
            "  training loss/accuracy 0.04185 / 98.98\n",
            "validation loss/accuracy 0.16847 / 94.22\n",
            "--------------------- @epoch  11 ---------------------\n",
            "  training loss/accuracy 0.02004 / 99.69\n",
            "validation loss/accuracy 0.17495 / 94.24\n",
            "--------------------- @epoch  12 ---------------------\n",
            "  training loss/accuracy 0.01063 / 99.92\n",
            "validation loss/accuracy 0.17422 / 93.78\n",
            "--------------------- @epoch  13 ---------------------\n",
            "  training loss/accuracy 0.00611 / 100.00\n",
            "validation loss/accuracy 0.18103 / 94.00\n",
            "--------------------- @epoch  14 ---------------------\n",
            "  training loss/accuracy 0.00528 / 100.00\n",
            "validation loss/accuracy 0.18123 / 94.00\n",
            "--------------------- @epoch  15 ---------------------\n",
            "  training loss/accuracy 0.00474 / 100.00\n",
            "validation loss/accuracy 0.18175 / 94.00\n",
            "--------------------- @epoch  16 ---------------------\n",
            "  training loss/accuracy 0.00449 / 100.00\n",
            "validation loss/accuracy 0.18213 / 94.00\n",
            "--------------------- @epoch  17 ---------------------\n",
            "  training loss/accuracy 0.00430 / 100.00\n",
            "validation loss/accuracy 0.18244 / 94.00\n",
            "--------------------- @epoch  18 ---------------------\n",
            "  training loss/accuracy 0.00419 / 100.00\n",
            "validation loss/accuracy 0.18281 / 94.00\n",
            "--------------------- @epoch  19 ---------------------\n",
            "  training loss/accuracy 0.00411 / 100.00\n",
            "validation loss/accuracy 0.18302 / 94.00\n",
            "Test loss: 0.254\n",
            "Test Accuracy: 93.38\n",
            "{'stop_early': False, 'early_stopping_step': 0, 'early_stopping_best_val': 100000000.0, 'learning_rate': 0.001, 'epoch_index': 19, 'train_loss': [1.6360585868358613, 1.557493931055069, 1.283793208003044, 1.1070443719625476, 0.9350280717015268, 0.7298960208892822, 0.4157865468412638, 0.19571377858519554, 0.1837980415672064, 0.1736305609345436, 0.0418451501056552, 0.020040312223136427, 0.010627393517643212, 0.006107143918052315, 0.005282895243726671, 0.004737593233585358, 0.004491212381981313, 0.004303420055657626, 0.004194584907963872, 0.004108614916913213], 'train_acc': [22.901785714285715, 30.727678571428573, 44.879464285714285, 48.55133928571428, 60.54017857142856, 71.02232142857142, 88.20535714285714, 94.63616071428571, 94.703125, 94.54464285714288, 98.984375, 99.6875, 99.92187500000001, 100.0, 100.0, 100.0, 100.0, 100.0, 100.0, 100.0], 'val_loss': [1.6036221299852642, 1.4888249124799455, 1.205126311097826, 1.2135944025857108, 0.8827015927859716, 0.7443147046225412, 0.4836345229830061, 0.33127061809812275, 0.7776341225419726, 0.23733974141733988, 0.16847121289798192, 0.17494727192180498, 0.17422304781419892, 0.18102703456367766, 0.1812309686626707, 0.18174736946821213, 0.18213035379137313, 0.18243515810796193, 0.18281107608761107, 0.1830206449542727], 'val_acc': [20.900974025974026, 44.074675324675326, 44.07467532467532, 46.94940476190476, 61.54626623376623, 74.47916666666666, 85.09875541125541, 89.98241341991341, 75.7913961038961, 93.10741341991341, 94.22348484848484, 94.23701298701299, 93.77705627705627, 94.00027056277055, 94.00027056277055, 94.00027056277055, 94.00027056277055, 94.00027056277055, 94.00027056277055, 94.00027056277055], 'test_loss': 0.2538265515532758, 'test_acc': 93.38348765432099, 'model_filename': 'model_storage/Clf/model.pth'}\n"
          ],
          "name": "stdout"
        }
      ]
    },
    {
      "cell_type": "code",
      "metadata": {
        "colab_type": "code",
        "outputId": "db1cc2c2-7fa3-43e8-f799-1ec8490c816f",
        "id": "B8seHZ8bid1I",
        "colab": {
          "base_uri": "https://localhost:8080/",
          "height": 513
        }
      },
      "source": [
        "plot_results(results)"
      ],
      "execution_count": 105,
      "outputs": [
        {
          "output_type": "display_data",
          "data": {
            "image/png": "[encoded data removed]",
            "text/plain": [
              "<Figure size 432x288 with 1 Axes>"
            ]
          },
          "metadata": {
            "tags": [],
            "needs_background": "light"
          }
        },
        {
          "output_type": "display_data",
          "data": {
            "image/png": "[encoded data removed]",
            "text/plain": [
              "<Figure size 432x288 with 1 Axes>"
            ]
          },
          "metadata": {
            "tags": [],
            "needs_background": "light"
          }
        }
      ]
    },
    {
      "cell_type": "code",
      "metadata": {
        "colab_type": "code",
        "outputId": "8d451d7f-b329-4206-de10-c39337d9ba1a",
        "id": "EXk6Iqjeid1M",
        "colab": {
          "base_uri": "https://localhost:8080/",
          "height": 35
        }
      },
      "source": [
        "sample = \"workers went on strike for increase of minimum wage\"\n",
        "predict_category(sample,args,pp,classifier)"
      ],
      "execution_count": 106,
      "outputs": [
        {
          "output_type": "execute_result",
          "data": {
            "text/plain": [
              "'sport'"
            ]
          },
          "metadata": {
            "tags": []
          },
          "execution_count": 106
        }
      ]
    },
    {
      "cell_type": "code",
      "metadata": {
        "colab_type": "code",
        "outputId": "44ed6491-79ad-49c8-b3cf-bf55273ac4dd",
        "id": "pgvd3m8fid1O",
        "colab": {
          "base_uri": "https://localhost:8080/",
          "height": 35
        }
      },
      "source": [
        "sample = \"India won by 7 wickets\"\n",
        "predict_category(sample,args,pp,classifier)"
      ],
      "execution_count": 107,
      "outputs": [
        {
          "output_type": "execute_result",
          "data": {
            "text/plain": [
              "'sport'"
            ]
          },
          "metadata": {
            "tags": []
          },
          "execution_count": 107
        }
      ]
    },
    {
      "cell_type": "markdown",
      "metadata": {
        "id": "b7AIOSFfEFE4",
        "colab_type": "text"
      },
      "source": [
        "# *****************   End of NoteBook *****************"
      ]
    }
  ]
}