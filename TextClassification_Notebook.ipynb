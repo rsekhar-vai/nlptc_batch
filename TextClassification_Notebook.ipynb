{
  "nbformat": 4,
  "nbformat_minor": 0,
  "metadata": {
    "colab": {
      "name": "TextClassification - Notebook ",
      "provenance": [],
      "collapsed_sections": [],
      "authorship_tag": "ABX9TyOFGLQ9LSd2B4AVWZBMEBRE",
      "include_colab_link": true
    },
    "kernelspec": {
      "name": "python3",
      "display_name": "Python 3"
    },
    "accelerator": "GPU"
  },
  "cells": [
    {
      "cell_type": "markdown",
      "metadata": {
        "id": "view-in-github",
        "colab_type": "text"
      },
      "source": [
        "<a href=\"https://colab.research.google.com/github/rsekhar-vai/nlptc/blob/master/TextClassification_Notebook.ipynb\" target=\"_parent\"><img src=\"https://colab.research.google.com/assets/colab-badge.svg\" alt=\"Open In Colab\"/></a>"
      ]
    },
    {
      "cell_type": "markdown",
      "metadata": {
        "id": "iK41J9S1tbFM",
        "colab_type": "text"
      },
      "source": [
        "## Setup the Environment"
      ]
    },
    {
      "cell_type": "code",
      "metadata": {
        "id": "Rgv7Zkdxk_Rs",
        "colab_type": "code",
        "colab": {}
      },
      "source": [
        "%load_ext autoreload"
      ],
      "execution_count": 0,
      "outputs": []
    },
    {
      "cell_type": "code",
      "metadata": {
        "id": "DhK0DzDxpYMR",
        "colab_type": "code",
        "outputId": "48cce7ae-3bb3-4828-8525-4c094c85721f",
        "colab": {
          "base_uri": "https://localhost:8080/",
          "height": 156
        }
      },
      "source": [
        "!rm -r nlptc\n",
        "!git clone https://github.com/rsekhar-vai/nlptc.git"
      ],
      "execution_count": 2,
      "outputs": [
        {
          "output_type": "stream",
          "text": [
            "rm: cannot remove 'nlptc': No such file or directory\n",
            "Cloning into 'nlptc'...\n",
            "remote: Enumerating objects: 161, done.\u001b[K\n",
            "remote: Counting objects: 100% (161/161), done.\u001b[K\n",
            "remote: Compressing objects: 100% (135/135), done.\u001b[K\n",
            "remote: Total 161 (delta 79), reused 46 (delta 16), pack-reused 0\u001b[K\n",
            "Receiving objects: 100% (161/161), 3.67 MiB | 4.37 MiB/s, done.\n",
            "Resolving deltas: 100% (79/79), done.\n"
          ],
          "name": "stdout"
        }
      ]
    },
    {
      "cell_type": "code",
      "metadata": {
        "id": "5hmsXqGgBX43",
        "colab_type": "code",
        "outputId": "f48dd336-747c-4881-b3bb-413f37d18e6e",
        "colab": {
          "base_uri": "https://localhost:8080/",
          "height": 191
        }
      },
      "source": [
        "!ls nlptc -R"
      ],
      "execution_count": 3,
      "outputs": [
        {
          "output_type": "stream",
          "text": [
            "nlptc:\n",
            " data\t       models.py\t\t\t   utilclasses.py\n",
            " __init__.py   README.md\t\t\t   utilfunctions.py\n",
            "'Model Repo'   TextClassification_Notebook.ipynb\n",
            "\n",
            "nlptc/data:\n",
            "init  news.csv\tsample_submission.csv  test.csv  train.csv\n",
            "\n",
            "'nlptc/Model Repo':\n",
            "CharCNN_Simple.py  ConvRec_BiLSTM.py  __init__.py  VDCNN.py\n"
          ],
          "name": "stdout"
        }
      ]
    },
    {
      "cell_type": "code",
      "metadata": {
        "id": "eknF2zAupmQQ",
        "colab_type": "code",
        "outputId": "66e277f6-a913-42cf-ce9f-a9c1e5a9641d",
        "colab": {
          "base_uri": "https://localhost:8080/",
          "height": 121
        }
      },
      "source": [
        "from argparse import Namespace\n",
        "from collections import Counter\n",
        "import json\n",
        "import os\n",
        "import re\n",
        "import string\n",
        "import numpy as np\n",
        "import pandas as pd\n",
        "import torch\n",
        "import torch.nn as nn\n",
        "import torch.nn.functional as F\n",
        "import torch.optim as optim\n",
        "from torch.utils.data import Dataset, DataLoader\n",
        "from tqdm import tqdm_notebook\n",
        "from sklearn import preprocessing\n",
        "from sklearn.model_selection import train_test_split\n",
        "import sys\n",
        "import spacy\n",
        "import torchtext\n",
        "from torchtext import data\n",
        "from torchtext.data import Field, BucketIterator\n",
        "from torchtext import vocab\n",
        "\n",
        "\n",
        "print('Python version:',sys.version)\n",
        "print('Pandas version:',pd.__version__)\n",
        "print('Pytorch version:', torch.__version__)\n",
        "print('Torch Text version:', torchtext.__version__)\n",
        "print('Spacy version:', spacy.__version__)\n"
      ],
      "execution_count": 4,
      "outputs": [
        {
          "output_type": "stream",
          "text": [
            "Python version: 3.6.9 (default, Nov  7 2019, 10:44:02) \n",
            "[GCC 8.3.0]\n",
            "Pandas version: 1.0.3\n",
            "Pytorch version: 1.5.0+cu101\n",
            "Torch Text version: 0.3.1\n",
            "Spacy version: 2.2.4\n"
          ],
          "name": "stdout"
        }
      ]
    },
    {
      "cell_type": "code",
      "metadata": {
        "id": "inC1xAgJoUiR",
        "colab_type": "code",
        "colab": {}
      },
      "source": [
        "  args = Namespace(\n",
        "      text_csv=\"nlptc/data/news.csv\",\n",
        "      train_csv=\"nlptc/data/train.csv\",\n",
        "      val_csv=\"nlptc/data/val.csv\",\n",
        "      test_csv=\"nlptc/data/test.csv\",\n",
        "      model_state_file=\"model.pth\",\n",
        "      save_dir=\"model_storage/Clf\",\n",
        "      glove_filepath='D:\\\\Projects\\\\Text Analytics\\\\Glove\\\\glove.6B.100d.txt',\n",
        "      hidden_dim=100,\n",
        "      num_channels=100,\n",
        "      seed=1337,\n",
        "      learning_rate=0.001,\n",
        "      dropout_p=0.1,\n",
        "      batch_size=64,\n",
        "      num_epochs=20,\n",
        "      early_stopping_criteria=5,\n",
        "      cuda=True,\n",
        "      catch_keyboard_interrupt=True,\n",
        "      reload_from_files=False,\n",
        "      expand_filepaths_to_save_dir=True,\n",
        "      token_type = 'w',\n",
        "      max_text_length = 256,\n",
        "      pretrained_embeddings= 'Glove',\n",
        "      embedding_size=100,\n",
        "  )"
      ],
      "execution_count": 0,
      "outputs": []
    },
    {
      "cell_type": "code",
      "metadata": {
        "id": "c9vnHN-xoqL9",
        "colab_type": "code",
        "outputId": "99f7e3fa-588b-49b9-d0b7-46068d44b7ad",
        "colab": {
          "base_uri": "https://localhost:8080/",
          "height": 69
        }
      },
      "source": [
        "from nlptc.utilclasses import *\n",
        "from nlptc.utilfunctions import *\n",
        "\n",
        "setup_environment(args)\n"
      ],
      "execution_count": 6,
      "outputs": [
        {
          "output_type": "stream",
          "text": [
            "Expanded filepaths: \n",
            "\tmodel_storage/Clf/model.pth\n",
            "Using CUDA: True\n"
          ],
          "name": "stdout"
        }
      ]
    },
    {
      "cell_type": "markdown",
      "metadata": {
        "id": "i3LQT9-ct_qA",
        "colab_type": "text"
      },
      "source": [
        "# Read Data file and split into Train, Validation and Test\n",
        "Text data file should have columns named as 'text' and 'category'. If the names are different, they should be renamed before processing further"
      ]
    },
    {
      "cell_type": "code",
      "metadata": {
        "id": "qdqEPUDYpVnU",
        "colab_type": "code",
        "outputId": "14cdff89-033f-4fb3-df8e-b5e3b9516530",
        "colab": {
          "base_uri": "https://localhost:8080/",
          "height": 52
        }
      },
      "source": [
        "dataframe_data = pd.read_csv(args.text_csv)\n",
        "        \n",
        "max_text_length = 256,\n",
        "args.token_type = 'w'\n",
        "#text_df = pd.read_csv(args.text_csv)\n",
        "text_df_orig = pd.read_csv(args.text_csv)\n",
        "print(text_df_orig.columns)\n",
        "\n",
        "text_df_orig.rename(columns={'title':'text'},inplace=True)\n",
        "text_df = text_df_orig[['text','category']] \n",
        "print(text_df.columns)\n",
        "\n",
        "dataset = TextDataset(text_df,args)\n",
        "train_df, val_df, test_df = dataset.get_splits()\n",
        "\n",
        "train_df.to_csv(args.train_csv, index=False)\n",
        "val_df.to_csv(args.val_csv, index=False)\n",
        "test_df.to_csv(args.test_csv, index=False)\n"
      ],
      "execution_count": 7,
      "outputs": [
        {
          "output_type": "stream",
          "text": [
            "Index(['title', 'category'], dtype='object')\n",
            "Index(['text', 'category'], dtype='object')\n"
          ],
          "name": "stdout"
        }
      ]
    },
    {
      "cell_type": "code",
      "metadata": {
        "id": "7lUgn56QpqL0",
        "colab_type": "code",
        "outputId": "afc0843f-c03e-4fe9-953e-02c5b596c64f",
        "colab": {
          "base_uri": "https://localhost:8080/",
          "height": 202
        }
      },
      "source": [
        "train_df.head()"
      ],
      "execution_count": 8,
      "outputs": [
        {
          "output_type": "execute_result",
          "data": {
            "text/html": [
              "<div>\n",
              "<style scoped>\n",
              "    .dataframe tbody tr th:only-of-type {\n",
              "        vertical-align: middle;\n",
              "    }\n",
              "\n",
              "    .dataframe tbody tr th {\n",
              "        vertical-align: top;\n",
              "    }\n",
              "\n",
              "    .dataframe thead th {\n",
              "        text-align: right;\n",
              "    }\n",
              "</style>\n",
              "<table border=\"1\" class=\"dataframe\">\n",
              "  <thead>\n",
              "    <tr style=\"text-align: right;\">\n",
              "      <th></th>\n",
              "      <th>text</th>\n",
              "      <th>category</th>\n",
              "    </tr>\n",
              "  </thead>\n",
              "  <tbody>\n",
              "    <tr>\n",
              "      <th>83622</th>\n",
              "      <td>Iran Says Preliminary Nuclear Deal Reached wit...</td>\n",
              "      <td>World</td>\n",
              "    </tr>\n",
              "    <tr>\n",
              "      <th>71641</th>\n",
              "      <td>Powell, Japan #39;s Machimura Discuss Iraq, Af...</td>\n",
              "      <td>World</td>\n",
              "    </tr>\n",
              "    <tr>\n",
              "      <th>34791</th>\n",
              "      <td>China grabs software research deals despite risks</td>\n",
              "      <td>Sci/Tech</td>\n",
              "    </tr>\n",
              "    <tr>\n",
              "      <th>9430</th>\n",
              "      <td>Williams-Sonoma Profit Up; Keeps Forecast (Reu...</td>\n",
              "      <td>Business</td>\n",
              "    </tr>\n",
              "    <tr>\n",
              "      <th>116739</th>\n",
              "      <td>HIH inquiry claims its biggest scalp</td>\n",
              "      <td>Business</td>\n",
              "    </tr>\n",
              "  </tbody>\n",
              "</table>\n",
              "</div>"
            ],
            "text/plain": [
              "                                                     text  category\n",
              "83622   Iran Says Preliminary Nuclear Deal Reached wit...     World\n",
              "71641   Powell, Japan #39;s Machimura Discuss Iraq, Af...     World\n",
              "34791   China grabs software research deals despite risks  Sci/Tech\n",
              "9430    Williams-Sonoma Profit Up; Keeps Forecast (Reu...  Business\n",
              "116739               HIH inquiry claims its biggest scalp  Business"
            ]
          },
          "metadata": {
            "tags": []
          },
          "execution_count": 8
        }
      ]
    },
    {
      "cell_type": "markdown",
      "metadata": {
        "id": "fLb8wOozuR8z",
        "colab_type": "text"
      },
      "source": [
        "# Define TorchText Fields Variables and map them to Data file Columns\n",
        "TEXT variable maps to the text we will process. LABEL variable maps to Category associated with the TEXT.\n",
        "\n",
        "TEXT and LABEL are of type FIELD which is part of TorchText package. FIELD comes with many built in functions that help in simplifying proprocessing. For example we can pass tokenizer as the argument to TEXT. Using this, TorchText does automatic tokenization while parsing the Text File Columns\n",
        "\n",
        "\n"
      ]
    },
    {
      "cell_type": "code",
      "metadata": {
        "id": "P7hWe9xAqKPl",
        "colab_type": "code",
        "colab": {}
      },
      "source": [
        "nlp = spacy.load('en_core_web_sm',disable=[\"tagger\", \"parser\", \"ner\"])\n",
        "\n",
        "def tokenizer(sentence):\n",
        "    tokens = [w.text.lower() for w in nlp(clean_text(sentence))]\n",
        "    return tokens"
      ],
      "execution_count": 0,
      "outputs": []
    },
    {
      "cell_type": "code",
      "metadata": {
        "id": "sKij3AjQp35E",
        "colab_type": "code",
        "colab": {}
      },
      "source": [
        "Field_TEXT = data.Field(tokenize=tokenizer, sequential=True, \n",
        "                        use_vocab=True,batch_first=True,fix_length=args.max_text_length)\n",
        "Field_LABEL = data.LabelField(sequential=False)\n",
        "mapping_with_file_columns = [('text', Field_TEXT), ('category', Field_LABEL)]\n"
      ],
      "execution_count": 0,
      "outputs": []
    },
    {
      "cell_type": "markdown",
      "metadata": {
        "id": "YNUv-rrTxAww",
        "colab_type": "text"
      },
      "source": [
        "# Create TorchText Dataset wrappers around Train, Validation and Test Data files using the TorchText Field Variables\n",
        "TorchText Dataset is a wrapper around a normal data file. It comes with many build in functions that help simplify processing. Dataset wrapper needs the mapping between TorchText Fields and data file columns (as defined in the previous step) "
      ]
    },
    {
      "cell_type": "code",
      "metadata": {
        "id": "A5z9ujUHp5cd",
        "colab_type": "code",
        "outputId": "0b7a520d-96e0-4309-813c-5e37be3c7080",
        "colab": {
          "base_uri": "https://localhost:8080/",
          "height": 35
        }
      },
      "source": [
        " Dataset_train, Dataset_val, Dataset_test = data.TabularDataset.splits(\n",
        "                                         path = '',\n",
        "                                         train = args.train_csv,\n",
        "                                         validation = args.val_csv,\n",
        "                                         test = args.test_csv,\n",
        "                                           format = 'csv',\n",
        "                                         fields = mapping_with_file_columns,\n",
        "                                         skip_header = True\n",
        "     )\n",
        "print(vars(Dataset_train[0]))\n"
      ],
      "execution_count": 11,
      "outputs": [
        {
          "output_type": "stream",
          "text": [
            "{'text': ['iran', 'says', 'preliminary', 'nuclear', 'deal', 'reached', 'with', 'eu'], 'category': 'World'}\n"
          ],
          "name": "stdout"
        }
      ]
    },
    {
      "cell_type": "markdown",
      "metadata": {
        "id": "8L2qMocP07Cm",
        "colab_type": "text"
      },
      "source": [
        "# Build Vocabulary and Word Vectors using the Datasets Created\n",
        "\n",
        "Volcabulary is list of unique Tokens in the text data. We will map each of the unique tokens to Word Vectors (or embeddings) using Glove Database"
      ]
    },
    {
      "cell_type": "code",
      "metadata": {
        "id": "QsEcoWUkp_Fl",
        "colab_type": "code",
        "outputId": "3b406a16-174c-4930-f070-d355495bd411",
        "colab": {
          "base_uri": "https://localhost:8080/",
          "height": 69
        }
      },
      "source": [
        " %%time\n",
        "MAX_VOCAB_SIZE = 25000\n",
        "#vec = vocab.Vectors('glove.6B.100d.txt', 'D:/qBots/nlptc/glove_embedding/')\n",
        "Field_TEXT.build_vocab(Dataset_train,Dataset_val,\n",
        "                  max_size = MAX_VOCAB_SIZE, \n",
        "                  vectors = \"glove.6B.100d\", \n",
        "##                vectors = vec,\n",
        "                  unk_init = torch.Tensor.normal_)\n",
        "Field_LABEL.build_vocab(Dataset_train)\n"
      ],
      "execution_count": 12,
      "outputs": [
        {
          "output_type": "stream",
          "text": [
            ".vector_cache/glove.6B.zip: 862MB [06:31, 2.20MB/s]                           \n",
            "100%|█████████▉| 398335/400000 [00:15<00:00, 26177.84it/s]"
          ],
          "name": "stderr"
        },
        {
          "output_type": "stream",
          "text": [
            "CPU times: user 35.4 s, sys: 5.15 s, total: 40.6 s\n",
            "Wall time: 7min 19s\n"
          ],
          "name": "stdout"
        }
      ]
    },
    {
      "cell_type": "code",
      "metadata": {
        "id": "ZRIuJlJ4qJIE",
        "colab_type": "code",
        "outputId": "30d2ec1e-e650-41af-c399-1faf3c17a2f7",
        "colab": {
          "base_uri": "https://localhost:8080/",
          "height": 35
        }
      },
      "source": [
        "Field_TEXT.vocab.vectors.shape"
      ],
      "execution_count": 13,
      "outputs": [
        {
          "output_type": "execute_result",
          "data": {
            "text/plain": [
              "torch.Size([25002, 100])"
            ]
          },
          "metadata": {
            "tags": []
          },
          "execution_count": 13
        }
      ]
    },
    {
      "cell_type": "code",
      "metadata": {
        "id": "c03yZbbI1vIU",
        "colab_type": "code",
        "outputId": "3620a182-31e6-4eb9-d64c-79905585011c",
        "colab": {
          "base_uri": "https://localhost:8080/",
          "height": 243
        }
      },
      "source": [
        "Field_TEXT.vocab.vectors[Field_TEXT.vocab.stoi['testing']]"
      ],
      "execution_count": 14,
      "outputs": [
        {
          "output_type": "execute_result",
          "data": {
            "text/plain": [
              "tensor([ 0.1258,  0.2037, -0.1123,  0.3045, -0.9769, -0.5542,  0.4286,  0.7928,\n",
              "        -0.7157,  0.7587, -0.1077, -0.3529,  0.0333, -0.0764,  0.3469,  0.2451,\n",
              "         0.5385,  0.7100,  0.0522, -0.1323, -0.4734, -0.1800,  0.1982, -0.0651,\n",
              "        -0.4349,  0.4343, -0.0951, -0.3966, -0.4798,  0.4940, -0.3679,  0.2031,\n",
              "        -0.3497,  0.2970,  1.0122,  0.0933, -0.3492, -0.4592, -0.8168,  0.0374,\n",
              "        -0.8714, -0.1617, -0.0595, -0.4740, -0.3519,  0.2339,  0.4807, -0.6236,\n",
              "        -0.3462, -0.7426,  0.8620,  0.0581, -0.8875,  0.8843,  0.0444, -1.3311,\n",
              "        -0.7529,  0.0039,  1.9239, -0.0039,  0.2040,  0.3463,  0.9224,  0.5198,\n",
              "         0.4460,  0.6641, -0.2858, -0.2286,  0.1590,  0.1543, -0.0106,  0.5443,\n",
              "        -0.1647,  0.2509, -0.1672,  0.4843,  0.4626, -0.4024, -1.2572, -0.2214,\n",
              "         0.6287, -0.2696, -0.5828,  0.2838, -1.7209,  0.6726,  0.8789,  0.3482,\n",
              "        -0.9895,  0.4533, -0.5951,  0.0075,  0.0057,  0.5793,  0.6368,  0.5939,\n",
              "        -0.1434, -0.2136,  0.4768,  0.3917])"
            ]
          },
          "metadata": {
            "tags": []
          },
          "execution_count": 14
        }
      ]
    },
    {
      "cell_type": "code",
      "metadata": {
        "id": "rqp1kuqL11Y8",
        "colab_type": "code",
        "outputId": "176941e9-8cd4-440e-c249-2088d002b058",
        "colab": {
          "base_uri": "https://localhost:8080/",
          "height": 35
        }
      },
      "source": [
        "print(Field_LABEL.vocab.stoi)"
      ],
      "execution_count": 15,
      "outputs": [
        {
          "output_type": "stream",
          "text": [
            "defaultdict(<function _default_unk_index at 0x7fab6572a0d0>, {'Sci/Tech': 0, 'World': 1, 'Business': 2, 'Sports': 3})\n"
          ],
          "name": "stdout"
        }
      ]
    },
    {
      "cell_type": "code",
      "metadata": {
        "id": "j6OesrOzcgSH",
        "colab_type": "code",
        "colab": {}
      },
      "source": [
        "embeddings = Field_TEXT.vocab.vectors.numpy()\n"
      ],
      "execution_count": 0,
      "outputs": []
    },
    {
      "cell_type": "code",
      "metadata": {
        "id": "hCbQTOvpv9B-",
        "colab_type": "code",
        "colab": {}
      },
      "source": [
        ""
      ],
      "execution_count": 0,
      "outputs": []
    },
    {
      "cell_type": "markdown",
      "metadata": {
        "id": "F2dwz4TJ19yg",
        "colab_type": "text"
      },
      "source": [
        "# Create the Torchtext Batches as wrapper around Dataset_train/val/test for iterating over during Training/Validation/Testng"
      ]
    },
    {
      "cell_type": "code",
      "metadata": {
        "id": "b6eIY6Q4qO1W",
        "colab_type": "code",
        "outputId": "3bbbd84b-f1fb-4c68-f8b7-02027e79acb1",
        "colab": {
          "base_uri": "https://localhost:8080/",
          "height": 35
        }
      },
      "source": [
        "BATCH_SIZE = 3\n",
        "device = torch.device('cuda' if torch.cuda.is_available() else 'cpu')\n",
        "\n",
        "Batches_train, Batches_val, Batches_test = data.BucketIterator.splits(\n",
        "    (Dataset_train, Dataset_val,Dataset_test), \n",
        "    batch_size = args.batch_size,\n",
        "    sort_key=lambda x: len(x.text), \n",
        "    sort_within_batch=True, \n",
        "    device = device)\n",
        "\n",
        "print(\"***** Number of Train and Validation batches are :\",len(Batches_train), len(Batches_val))\n"
      ],
      "execution_count": 17,
      "outputs": [
        {
          "output_type": "stream",
          "text": [
            "***** Number of Train and Validation batches are : 1055 352\n"
          ],
          "name": "stdout"
        }
      ]
    },
    {
      "cell_type": "code",
      "metadata": {
        "id": "KkJsUN50qS16",
        "colab_type": "code",
        "colab": {}
      },
      "source": [
        "batch = next(iter(Batches_train))"
      ],
      "execution_count": 0,
      "outputs": []
    },
    {
      "cell_type": "code",
      "metadata": {
        "id": "xJzEsYpA-VZd",
        "colab_type": "code",
        "outputId": "4bc97108-40f0-476e-db01-b7d728597882",
        "colab": {
          "base_uri": "https://localhost:8080/",
          "height": 35
        }
      },
      "source": [
        "batch.category.shape"
      ],
      "execution_count": 19,
      "outputs": [
        {
          "output_type": "execute_result",
          "data": {
            "text/plain": [
              "torch.Size([64])"
            ]
          },
          "metadata": {
            "tags": []
          },
          "execution_count": 19
        }
      ]
    },
    {
      "cell_type": "code",
      "metadata": {
        "id": "49lYv3H9cIcz",
        "colab_type": "code",
        "outputId": "b75793ab-8c61-48de-b7fc-1d9a04b11a23",
        "colab": {
          "base_uri": "https://localhost:8080/",
          "height": 35
        }
      },
      "source": [
        "batch.text.shape"
      ],
      "execution_count": 20,
      "outputs": [
        {
          "output_type": "execute_result",
          "data": {
            "text/plain": [
              "torch.Size([64, 256])"
            ]
          },
          "metadata": {
            "tags": []
          },
          "execution_count": 20
        }
      ]
    },
    {
      "cell_type": "code",
      "metadata": {
        "id": "e5-xAc27bz20",
        "colab_type": "code",
        "colab": {}
      },
      "source": [
        "def idxtosent(batch, idx):\n",
        "    return ' '.join([Field_TEXT.vocab.itos[i] for i in batch.text[idx,:].cpu().data.numpy()])"
      ],
      "execution_count": 0,
      "outputs": []
    },
    {
      "cell_type": "code",
      "metadata": {
        "id": "a_U9Xr0mb0yx",
        "colab_type": "code",
        "outputId": "f2b5afb1-301f-4e7c-ce61-2190a9dd802c",
        "colab": {
          "base_uri": "https://localhost:8080/",
          "height": 72
        }
      },
      "source": [
        "for i in range(2):\n",
        "  print(idxtosent(batch,i))"
      ],
      "execution_count": 22,
      "outputs": [
        {
          "output_type": "stream",
          "text": [
            "steps to climb out of debt <pad> <pad> <pad> <pad> <pad> <pad> <pad> <pad> <pad> <pad> <pad> <pad> <pad> <pad> <pad> <pad> <pad> <pad> <pad> <pad> <pad> <pad> <pad> <pad> <pad> <pad> <pad> <pad> <pad> <pad> <pad> <pad> <pad> <pad> <pad> <pad> <pad> <pad> <pad> <pad> <pad> <pad> <pad> <pad> <pad> <pad> <pad> <pad> <pad> <pad> <pad> <pad> <pad> <pad> <pad> <pad> <pad> <pad> <pad> <pad> <pad> <pad> <pad> <pad> <pad> <pad> <pad> <pad> <pad> <pad> <pad> <pad> <pad> <pad> <pad> <pad> <pad> <pad> <pad> <pad> <pad> <pad> <pad> <pad> <pad> <pad> <pad> <pad> <pad> <pad> <pad> <pad> <pad> <pad> <pad> <pad> <pad> <pad> <pad> <pad> <pad> <pad> <pad> <pad> <pad> <pad> <pad> <pad> <pad> <pad> <pad> <pad> <pad> <pad> <pad> <pad> <pad> <pad> <pad> <pad> <pad> <pad> <pad> <pad> <pad> <pad> <pad> <pad> <pad> <pad> <pad> <pad> <pad> <pad> <pad> <pad> <pad> <pad> <pad> <pad> <pad> <pad> <pad> <pad> <pad> <pad> <pad> <pad> <pad> <pad> <pad> <pad> <pad> <pad> <pad> <pad> <pad> <pad> <pad> <pad> <pad> <pad> <pad> <pad> <pad> <pad> <pad> <pad> <pad> <pad> <pad> <pad> <pad> <pad> <pad> <pad> <pad> <pad> <pad> <pad> <pad> <pad> <pad> <pad> <pad> <pad> <pad> <pad> <pad> <pad> <pad> <pad> <pad> <pad> <pad> <pad> <pad> <pad> <pad> <pad> <pad> <pad> <pad> <pad> <pad> <pad> <pad> <pad> <pad> <pad> <pad> <pad> <pad> <pad> <pad> <pad> <pad> <pad> <pad> <pad> <pad> <pad> <pad> <pad> <pad> <pad> <pad> <pad> <pad> <pad> <pad> <pad> <pad> <pad> <pad> <pad> <pad> <pad> <pad> <pad> <pad> <pad> <pad> <pad> <pad> <pad> <pad> <pad> <pad> <pad>\n",
            "netherlands reports anti muslim incidents ap <pad> <pad> <pad> <pad> <pad> <pad> <pad> <pad> <pad> <pad> <pad> <pad> <pad> <pad> <pad> <pad> <pad> <pad> <pad> <pad> <pad> <pad> <pad> <pad> <pad> <pad> <pad> <pad> <pad> <pad> <pad> <pad> <pad> <pad> <pad> <pad> <pad> <pad> <pad> <pad> <pad> <pad> <pad> <pad> <pad> <pad> <pad> <pad> <pad> <pad> <pad> <pad> <pad> <pad> <pad> <pad> <pad> <pad> <pad> <pad> <pad> <pad> <pad> <pad> <pad> <pad> <pad> <pad> <pad> <pad> <pad> <pad> <pad> <pad> <pad> <pad> <pad> <pad> <pad> <pad> <pad> <pad> <pad> <pad> <pad> <pad> <pad> <pad> <pad> <pad> <pad> <pad> <pad> <pad> <pad> <pad> <pad> <pad> <pad> <pad> <pad> <pad> <pad> <pad> <pad> <pad> <pad> <pad> <pad> <pad> <pad> <pad> <pad> <pad> <pad> <pad> <pad> <pad> <pad> <pad> <pad> <pad> <pad> <pad> <pad> <pad> <pad> <pad> <pad> <pad> <pad> <pad> <pad> <pad> <pad> <pad> <pad> <pad> <pad> <pad> <pad> <pad> <pad> <pad> <pad> <pad> <pad> <pad> <pad> <pad> <pad> <pad> <pad> <pad> <pad> <pad> <pad> <pad> <pad> <pad> <pad> <pad> <pad> <pad> <pad> <pad> <pad> <pad> <pad> <pad> <pad> <pad> <pad> <pad> <pad> <pad> <pad> <pad> <pad> <pad> <pad> <pad> <pad> <pad> <pad> <pad> <pad> <pad> <pad> <pad> <pad> <pad> <pad> <pad> <pad> <pad> <pad> <pad> <pad> <pad> <pad> <pad> <pad> <pad> <pad> <pad> <pad> <pad> <pad> <pad> <pad> <pad> <pad> <pad> <pad> <pad> <pad> <pad> <pad> <pad> <pad> <pad> <pad> <pad> <pad> <pad> <pad> <pad> <pad> <pad> <pad> <pad> <pad> <pad> <pad> <pad> <pad> <pad> <pad> <pad> <pad> <pad> <pad> <pad> <pad> <pad> <pad> <pad> <pad> <pad>\n"
          ],
          "name": "stdout"
        }
      ]
    },
    {
      "cell_type": "markdown",
      "metadata": {
        "id": "aXauuKqj3wgt",
        "colab_type": "text"
      },
      "source": [
        "# Build a Neural Network (Simple Word CNN)"
      ]
    },
    {
      "cell_type": "code",
      "metadata": {
        "id": "ypNBz4FprsWz",
        "colab_type": "code",
        "colab": {}
      },
      "source": [
        "from nlptc.models import *"
      ],
      "execution_count": 0,
      "outputs": []
    },
    {
      "cell_type": "code",
      "metadata": {
        "id": "pavGzAhmueTJ",
        "colab_type": "code",
        "outputId": "32c586ed-95d3-4376-c071-770a7fbc41b1",
        "colab": {
          "base_uri": "https://localhost:8080/",
          "height": 35
        }
      },
      "source": [
        "embeddings = Field_TEXT.vocab.vectors.numpy()\n",
        "type(embeddings)"
      ],
      "execution_count": 24,
      "outputs": [
        {
          "output_type": "execute_result",
          "data": {
            "text/plain": [
              "numpy.ndarray"
            ]
          },
          "metadata": {
            "tags": []
          },
          "execution_count": 24
        }
      ]
    },
    {
      "cell_type": "code",
      "metadata": {
        "id": "3k7DiAfEvDPX",
        "colab_type": "code",
        "colab": {}
      },
      "source": [
        "classifier = WordCNN_Simple(embedding_size=args.embedding_size,\n",
        "                                    num_embeddings=len(Field_TEXT.vocab),\n",
        "                                    num_channels=args.num_channels,\n",
        "                                    hidden_dim=args.hidden_dim,\n",
        "                                    num_classes=len(Field_LABEL.vocab),\n",
        "                                    dropout_p=args.dropout_p,\n",
        "                                    pretrained_embeddings=embeddings,\n",
        "                                    padding_idx=0)"
      ],
      "execution_count": 0,
      "outputs": []
    },
    {
      "cell_type": "code",
      "metadata": {
        "id": "ZgluFDpo4XC3",
        "colab_type": "code",
        "outputId": "33f92d99-9708-469f-c6fb-ff16c9b72a38",
        "colab": {
          "base_uri": "https://localhost:8080/",
          "height": 35
        }
      },
      "source": [
        "classifier = classifier.to(args.device)\n",
        "loss_func = nn.CrossEntropyLoss()\n",
        "optimizer = optim.Adam(classifier.parameters(), lr=args.learning_rate)\n",
        "scheduler = optim.lr_scheduler.ReduceLROnPlateau(optimizer=optimizer,\n",
        "                                                  mode='min', factor=0.5,\n",
        "                                                  patience=1)\n",
        "print(\"------- # of Parameters ---->: \", sum(p.numel() for p in classifier.parameters() if p.requires_grad))\n"
      ],
      "execution_count": 26,
      "outputs": [
        {
          "output_type": "stream",
          "text": [
            "------- # of Parameters ---->:  2631104\n"
          ],
          "name": "stdout"
        }
      ]
    },
    {
      "cell_type": "code",
      "metadata": {
        "id": "5AB60HS5mzgD",
        "colab_type": "code",
        "outputId": "a447d418-3135-46fc-b39e-918e3dabe979",
        "colab": {
          "base_uri": "https://localhost:8080/",
          "height": 1000
        }
      },
      "source": [
        "results = build_model(args,dataset,classifier,Batches_train,Batches_val,Batches_test,loss_func,optimizer,scheduler)\n"
      ],
      "execution_count": 27,
      "outputs": [
        {
          "output_type": "stream",
          "text": [
            "--------------------- @epoch  0 ---------------------\n"
          ],
          "name": "stdout"
        },
        {
          "output_type": "stream",
          "text": [
            "\r100%|█████████▉| 398335/400000 [00:30<00:00, 26177.84it/s]"
          ],
          "name": "stderr"
        },
        {
          "output_type": "stream",
          "text": [
            "  training loss/accuracy 1.38941 / 24.86\n",
            "validation loss/accuracy 0.94541 / 58.26\n",
            "--------------------- @epoch  1 ---------------------\n",
            "  training loss/accuracy 0.58196 / 78.19\n",
            "validation loss/accuracy 0.39885 / 86.61\n",
            "--------------------- @epoch  2 ---------------------\n",
            "  training loss/accuracy 0.35294 / 88.32\n",
            "validation loss/accuracy 0.30688 / 89.84\n",
            "--------------------- @epoch  3 ---------------------\n",
            "  training loss/accuracy 0.28658 / 90.62\n",
            "validation loss/accuracy 0.25821 / 91.61\n",
            "--------------------- @epoch  4 ---------------------\n",
            "  training loss/accuracy 0.24231 / 92.04\n",
            "validation loss/accuracy 0.22353 / 92.89\n",
            "--------------------- @epoch  5 ---------------------\n",
            "  training loss/accuracy 0.20659 / 93.23\n",
            "validation loss/accuracy 0.19310 / 93.81\n",
            "--------------------- @epoch  6 ---------------------\n",
            "  training loss/accuracy 0.17625 / 94.26\n",
            "validation loss/accuracy 0.16455 / 94.81\n",
            "--------------------- @epoch  7 ---------------------\n",
            "  training loss/accuracy 0.14876 / 95.13\n",
            "validation loss/accuracy 0.13929 / 95.47\n",
            "--------------------- @epoch  8 ---------------------\n",
            "  training loss/accuracy 0.12408 / 95.98\n",
            "validation loss/accuracy 0.12162 / 95.99\n",
            "--------------------- @epoch  9 ---------------------\n",
            "  training loss/accuracy 0.10622 / 96.42\n",
            "validation loss/accuracy 0.10435 / 96.40\n",
            "--------------------- @epoch  10 ---------------------\n",
            "  training loss/accuracy 0.09159 / 97.04\n",
            "validation loss/accuracy 0.09025 / 96.95\n",
            "--------------------- @epoch  11 ---------------------\n",
            "  training loss/accuracy 0.07807 / 97.37\n",
            "validation loss/accuracy 0.07893 / 97.25\n",
            "--------------------- @epoch  12 ---------------------\n",
            "  training loss/accuracy 0.06827 / 97.65\n",
            "validation loss/accuracy 0.07141 / 97.48\n",
            "--------------------- @epoch  13 ---------------------\n",
            "  training loss/accuracy 0.06044 / 97.97\n",
            "validation loss/accuracy 0.05918 / 97.81\n",
            "--------------------- @epoch  14 ---------------------\n",
            "  training loss/accuracy 0.05166 / 98.24\n",
            "validation loss/accuracy 0.05484 / 97.92\n",
            "--------------------- @epoch  15 ---------------------\n",
            "  training loss/accuracy 0.04604 / 98.42\n",
            "validation loss/accuracy 0.05081 / 98.17\n",
            "--------------------- @epoch  16 ---------------------\n",
            "  training loss/accuracy 0.04360 / 98.50\n",
            "validation loss/accuracy 0.04794 / 98.14\n",
            "--------------------- @epoch  17 ---------------------\n",
            "  training loss/accuracy 0.03791 / 98.72\n",
            "validation loss/accuracy 0.04140 / 98.36\n",
            "--------------------- @epoch  18 ---------------------\n",
            "  training loss/accuracy 0.03384 / 98.79\n",
            "validation loss/accuracy 0.03805 / 98.35\n",
            "--------------------- @epoch  19 ---------------------\n",
            "  training loss/accuracy 0.03429 / 98.76\n",
            "validation loss/accuracy 0.04040 / 98.42\n",
            "Test loss: 0.171\n",
            "Test Accuracy: 95.15\n"
          ],
          "name": "stdout"
        }
      ]
    },
    {
      "cell_type": "code",
      "metadata": {
        "id": "Jrz_wRzQ5S3A",
        "colab_type": "code",
        "outputId": "44ae4dd8-243e-4fde-aeb4-3194d5fc4f27",
        "colab": {
          "base_uri": "https://localhost:8080/",
          "height": 283
        }
      },
      "source": [
        "import matplotlib.pyplot as plt\n",
        "plt.plot(results['train_loss'])\n",
        "plt.plot(results['val_loss'])\n",
        "plt.plot((0,20),(results['test_loss'],results['test_loss']))\n",
        "\n",
        "plt.legend(['training loss', 'validation loss','test loss'])"
      ],
      "execution_count": 28,
      "outputs": [
        {
          "output_type": "execute_result",
          "data": {
            "text/plain": [
              "<matplotlib.legend.Legend at 0x7fab5139d2e8>"
            ]
          },
          "metadata": {
            "tags": []
          },
          "execution_count": 28
        },
        {
          "output_type": "display_data",
          "data": {
            "image/png": "[encoded data removed]",
            "text/plain": [
              "<Figure size 432x288 with 1 Axes>"
            ]
          },
          "metadata": {
            "tags": [],
            "needs_background": "light"
          }
        }
      ]
    },
    {
      "cell_type": "code",
      "metadata": {
        "id": "aqWrKPPYBdad",
        "colab_type": "code",
        "outputId": "092d4aee-d460-4dc3-f4d9-1acb25a4c51f",
        "colab": {
          "base_uri": "https://localhost:8080/",
          "height": 283
        }
      },
      "source": [
        "plt.plot(results['train_acc'])\n",
        "plt.plot(results['val_acc'])\n",
        "plt.plot((0,20),(results['test_acc'],results['test_acc']))\n",
        "plt.legend(['training accuracy', 'validation accuracy','test Accuracy'])\n"
      ],
      "execution_count": 29,
      "outputs": [
        {
          "output_type": "execute_result",
          "data": {
            "text/plain": [
              "<matplotlib.legend.Legend at 0x7fab3eff0c18>"
            ]
          },
          "metadata": {
            "tags": []
          },
          "execution_count": 29
        },
        {
          "output_type": "display_data",
          "data": {
            "image/png": "[encoded data removed]",
            "text/plain": [
              "<Figure size 432x288 with 1 Axes>"
            ]
          },
          "metadata": {
            "tags": [],
            "needs_background": "light"
          }
        }
      ]
    },
    {
      "cell_type": "code",
      "metadata": {
        "id": "KIZPRLEN-zZo",
        "colab_type": "code",
        "colab": {}
      },
      "source": [
        "def predict_category(text,Field_TEXT,Field_LABEL,classifier):\n",
        "    preprocessed_sample = [Field_TEXT.preprocess(sample)]\n",
        "    processed_sample = Field_TEXT.process(preprocessed_sample).to(args.device)\n",
        "    y_pred = classifier(processed_sample)\n",
        "    y_pred_np = y_pred.to(torch.device(\"cpu\")).detach().numpy()\n",
        "\n",
        "    return Field_LABEL.vocab.itos[np.argmax(y_pred_np)]\n"
      ],
      "execution_count": 0,
      "outputs": []
    },
    {
      "cell_type": "code",
      "metadata": {
        "id": "Yg8lytdC_RMI",
        "colab_type": "code",
        "colab": {
          "base_uri": "https://localhost:8080/",
          "height": 35
        },
        "outputId": "4090acdb-a6be-4786-e866-78322d02c20f"
      },
      "source": [
        "sample = \"The merger did not work out\"\n",
        "predict_category(sample,Field_TEXT,Field_LABEL,classifier)"
      ],
      "execution_count": 130,
      "outputs": [
        {
          "output_type": "execute_result",
          "data": {
            "text/plain": [
              "'Business'"
            ]
          },
          "metadata": {
            "tags": []
          },
          "execution_count": 130
        }
      ]
    },
    {
      "cell_type": "code",
      "metadata": {
        "id": "lndRh1p8_9hL",
        "colab_type": "code",
        "colab": {
          "base_uri": "https://localhost:8080/",
          "height": 35
        },
        "outputId": "437efce4-244d-451f-9979-e5abbcf62dcb"
      },
      "source": [
        "sample = \"India won by 7 wickets\"\n",
        "predict_category(sample,Field_TEXT,Field_LABEL,classifier)"
      ],
      "execution_count": 129,
      "outputs": [
        {
          "output_type": "execute_result",
          "data": {
            "text/plain": [
              "'Sports'"
            ]
          },
          "metadata": {
            "tags": []
          },
          "execution_count": 129
        }
      ]
    },
    {
      "cell_type": "markdown",
      "metadata": {
        "id": "b7AIOSFfEFE4",
        "colab_type": "text"
      },
      "source": [
        "# *****************   End of NoteBook *****************"
      ]
    }
  ]
}